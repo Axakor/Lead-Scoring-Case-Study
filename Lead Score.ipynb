{
 "cells": [
  {
   "cell_type": "code",
   "execution_count": 1,
   "id": "7356a054",
   "metadata": {},
   "outputs": [],
   "source": [
    "# importing libraries \n",
    "import pandas as pd\n",
    "import numpy as np\n",
    "\n",
    "import matplotlib.pyplot as plt\n",
    "from matplotlib import style\n",
    "import seaborn as sns\n",
    "style.use('ggplot')\n",
    "\n",
    "import statsmodels.api as sm\n",
    "from statsmodels.stats.outliers_influence import variance_inflation_factor\n",
    "\n",
    "from sklearn.preprocessing import MinMaxScaler\n",
    "from sklearn.decomposition import PCA\n",
    "from sklearn.feature_selection import RFE\n",
    "from sklearn.model_selection import train_test_split, GridSearchCV, cross_validate\n",
    "from sklearn.linear_model import LogisticRegression\n",
    "from sklearn.metrics import confusion_matrix, roc_curve, roc_auc_score, precision_score, recall_score, precision_recall_curve, f1_score, accuracy_score\n",
    "\n",
    "import warnings\n",
    "warnings.filterwarnings(\"ignore\")"
   ]
  },
  {
   "cell_type": "code",
   "execution_count": 2,
   "id": "ebccde8b",
   "metadata": {},
   "outputs": [
    {
     "data": {
      "text/html": [
       "<div>\n",
       "<style scoped>\n",
       "    .dataframe tbody tr th:only-of-type {\n",
       "        vertical-align: middle;\n",
       "    }\n",
       "\n",
       "    .dataframe tbody tr th {\n",
       "        vertical-align: top;\n",
       "    }\n",
       "\n",
       "    .dataframe thead th {\n",
       "        text-align: right;\n",
       "    }\n",
       "</style>\n",
       "<table border=\"1\" class=\"dataframe\">\n",
       "  <thead>\n",
       "    <tr style=\"text-align: right;\">\n",
       "      <th></th>\n",
       "      <th>Prospect ID</th>\n",
       "      <th>Lead Number</th>\n",
       "      <th>Lead Origin</th>\n",
       "      <th>Lead Source</th>\n",
       "      <th>Do Not Email</th>\n",
       "      <th>Do Not Call</th>\n",
       "      <th>Converted</th>\n",
       "      <th>TotalVisits</th>\n",
       "      <th>Total Time Spent on Website</th>\n",
       "      <th>Page Views Per Visit</th>\n",
       "      <th>...</th>\n",
       "      <th>Get updates on DM Content</th>\n",
       "      <th>Lead Profile</th>\n",
       "      <th>City</th>\n",
       "      <th>Asymmetrique Activity Index</th>\n",
       "      <th>Asymmetrique Profile Index</th>\n",
       "      <th>Asymmetrique Activity Score</th>\n",
       "      <th>Asymmetrique Profile Score</th>\n",
       "      <th>I agree to pay the amount through cheque</th>\n",
       "      <th>A free copy of Mastering The Interview</th>\n",
       "      <th>Last Notable Activity</th>\n",
       "    </tr>\n",
       "  </thead>\n",
       "  <tbody>\n",
       "    <tr>\n",
       "      <th>0</th>\n",
       "      <td>7927b2df-8bba-4d29-b9a2-b6e0beafe620</td>\n",
       "      <td>660737</td>\n",
       "      <td>API</td>\n",
       "      <td>Olark Chat</td>\n",
       "      <td>No</td>\n",
       "      <td>No</td>\n",
       "      <td>0</td>\n",
       "      <td>0.0</td>\n",
       "      <td>0</td>\n",
       "      <td>0.0</td>\n",
       "      <td>...</td>\n",
       "      <td>No</td>\n",
       "      <td>Select</td>\n",
       "      <td>Select</td>\n",
       "      <td>02.Medium</td>\n",
       "      <td>02.Medium</td>\n",
       "      <td>15.0</td>\n",
       "      <td>15.0</td>\n",
       "      <td>No</td>\n",
       "      <td>No</td>\n",
       "      <td>Modified</td>\n",
       "    </tr>\n",
       "    <tr>\n",
       "      <th>1</th>\n",
       "      <td>2a272436-5132-4136-86fa-dcc88c88f482</td>\n",
       "      <td>660728</td>\n",
       "      <td>API</td>\n",
       "      <td>Organic Search</td>\n",
       "      <td>No</td>\n",
       "      <td>No</td>\n",
       "      <td>0</td>\n",
       "      <td>5.0</td>\n",
       "      <td>674</td>\n",
       "      <td>2.5</td>\n",
       "      <td>...</td>\n",
       "      <td>No</td>\n",
       "      <td>Select</td>\n",
       "      <td>Select</td>\n",
       "      <td>02.Medium</td>\n",
       "      <td>02.Medium</td>\n",
       "      <td>15.0</td>\n",
       "      <td>15.0</td>\n",
       "      <td>No</td>\n",
       "      <td>No</td>\n",
       "      <td>Email Opened</td>\n",
       "    </tr>\n",
       "    <tr>\n",
       "      <th>2</th>\n",
       "      <td>8cc8c611-a219-4f35-ad23-fdfd2656bd8a</td>\n",
       "      <td>660727</td>\n",
       "      <td>Landing Page Submission</td>\n",
       "      <td>Direct Traffic</td>\n",
       "      <td>No</td>\n",
       "      <td>No</td>\n",
       "      <td>1</td>\n",
       "      <td>2.0</td>\n",
       "      <td>1532</td>\n",
       "      <td>2.0</td>\n",
       "      <td>...</td>\n",
       "      <td>No</td>\n",
       "      <td>Potential Lead</td>\n",
       "      <td>Mumbai</td>\n",
       "      <td>02.Medium</td>\n",
       "      <td>01.High</td>\n",
       "      <td>14.0</td>\n",
       "      <td>20.0</td>\n",
       "      <td>No</td>\n",
       "      <td>Yes</td>\n",
       "      <td>Email Opened</td>\n",
       "    </tr>\n",
       "    <tr>\n",
       "      <th>3</th>\n",
       "      <td>0cc2df48-7cf4-4e39-9de9-19797f9b38cc</td>\n",
       "      <td>660719</td>\n",
       "      <td>Landing Page Submission</td>\n",
       "      <td>Direct Traffic</td>\n",
       "      <td>No</td>\n",
       "      <td>No</td>\n",
       "      <td>0</td>\n",
       "      <td>1.0</td>\n",
       "      <td>305</td>\n",
       "      <td>1.0</td>\n",
       "      <td>...</td>\n",
       "      <td>No</td>\n",
       "      <td>Select</td>\n",
       "      <td>Mumbai</td>\n",
       "      <td>02.Medium</td>\n",
       "      <td>01.High</td>\n",
       "      <td>13.0</td>\n",
       "      <td>17.0</td>\n",
       "      <td>No</td>\n",
       "      <td>No</td>\n",
       "      <td>Modified</td>\n",
       "    </tr>\n",
       "    <tr>\n",
       "      <th>4</th>\n",
       "      <td>3256f628-e534-4826-9d63-4a8b88782852</td>\n",
       "      <td>660681</td>\n",
       "      <td>Landing Page Submission</td>\n",
       "      <td>Google</td>\n",
       "      <td>No</td>\n",
       "      <td>No</td>\n",
       "      <td>1</td>\n",
       "      <td>2.0</td>\n",
       "      <td>1428</td>\n",
       "      <td>1.0</td>\n",
       "      <td>...</td>\n",
       "      <td>No</td>\n",
       "      <td>Select</td>\n",
       "      <td>Mumbai</td>\n",
       "      <td>02.Medium</td>\n",
       "      <td>01.High</td>\n",
       "      <td>15.0</td>\n",
       "      <td>18.0</td>\n",
       "      <td>No</td>\n",
       "      <td>No</td>\n",
       "      <td>Modified</td>\n",
       "    </tr>\n",
       "  </tbody>\n",
       "</table>\n",
       "<p>5 rows × 37 columns</p>\n",
       "</div>"
      ],
      "text/plain": [
       "                            Prospect ID  Lead Number              Lead Origin  \\\n",
       "0  7927b2df-8bba-4d29-b9a2-b6e0beafe620       660737                      API   \n",
       "1  2a272436-5132-4136-86fa-dcc88c88f482       660728                      API   \n",
       "2  8cc8c611-a219-4f35-ad23-fdfd2656bd8a       660727  Landing Page Submission   \n",
       "3  0cc2df48-7cf4-4e39-9de9-19797f9b38cc       660719  Landing Page Submission   \n",
       "4  3256f628-e534-4826-9d63-4a8b88782852       660681  Landing Page Submission   \n",
       "\n",
       "      Lead Source Do Not Email Do Not Call  Converted  TotalVisits  \\\n",
       "0      Olark Chat           No          No          0          0.0   \n",
       "1  Organic Search           No          No          0          5.0   \n",
       "2  Direct Traffic           No          No          1          2.0   \n",
       "3  Direct Traffic           No          No          0          1.0   \n",
       "4          Google           No          No          1          2.0   \n",
       "\n",
       "   Total Time Spent on Website  Page Views Per Visit  ...  \\\n",
       "0                            0                   0.0  ...   \n",
       "1                          674                   2.5  ...   \n",
       "2                         1532                   2.0  ...   \n",
       "3                          305                   1.0  ...   \n",
       "4                         1428                   1.0  ...   \n",
       "\n",
       "  Get updates on DM Content    Lead Profile    City  \\\n",
       "0                        No          Select  Select   \n",
       "1                        No          Select  Select   \n",
       "2                        No  Potential Lead  Mumbai   \n",
       "3                        No          Select  Mumbai   \n",
       "4                        No          Select  Mumbai   \n",
       "\n",
       "  Asymmetrique Activity Index Asymmetrique Profile Index  \\\n",
       "0                   02.Medium                  02.Medium   \n",
       "1                   02.Medium                  02.Medium   \n",
       "2                   02.Medium                    01.High   \n",
       "3                   02.Medium                    01.High   \n",
       "4                   02.Medium                    01.High   \n",
       "\n",
       "  Asymmetrique Activity Score Asymmetrique Profile Score  \\\n",
       "0                        15.0                       15.0   \n",
       "1                        15.0                       15.0   \n",
       "2                        14.0                       20.0   \n",
       "3                        13.0                       17.0   \n",
       "4                        15.0                       18.0   \n",
       "\n",
       "  I agree to pay the amount through cheque  \\\n",
       "0                                       No   \n",
       "1                                       No   \n",
       "2                                       No   \n",
       "3                                       No   \n",
       "4                                       No   \n",
       "\n",
       "  A free copy of Mastering The Interview Last Notable Activity  \n",
       "0                                     No              Modified  \n",
       "1                                     No          Email Opened  \n",
       "2                                    Yes          Email Opened  \n",
       "3                                     No              Modified  \n",
       "4                                     No              Modified  \n",
       "\n",
       "[5 rows x 37 columns]"
      ]
     },
     "execution_count": 2,
     "metadata": {},
     "output_type": "execute_result"
    }
   ],
   "source": [
    "df = pd.read_csv('Leads.csv')\n",
    "df.head()"
   ]
  },
  {
   "cell_type": "code",
   "execution_count": null,
   "id": "aaf6d7b7",
   "metadata": {},
   "outputs": [],
   "source": []
  },
  {
   "cell_type": "code",
   "execution_count": 9,
   "id": "a5296ac9",
   "metadata": {},
   "outputs": [
    {
     "data": {
      "text/plain": [
       "(9240, 37)"
      ]
     },
     "execution_count": 9,
     "metadata": {},
     "output_type": "execute_result"
    }
   ],
   "source": [
    "#checking total rows and cols in dataset\n",
    "df.shape"
   ]
  },
  {
   "cell_type": "code",
   "execution_count": null,
   "id": "d7a240cb",
   "metadata": {},
   "outputs": [],
   "source": [
    "# The dataset has:\n",
    "\n",
    "9240 rows\n",
    "37 columns"
   ]
  },
  {
   "cell_type": "code",
   "execution_count": null,
   "id": "e7b5b56b",
   "metadata": {},
   "outputs": [],
   "source": []
  },
  {
   "cell_type": "code",
   "execution_count": null,
   "id": "12d6422b",
   "metadata": {},
   "outputs": [],
   "source": [
    "# Data Check"
   ]
  },
  {
   "cell_type": "code",
   "execution_count": 3,
   "id": "0c3d24ff",
   "metadata": {},
   "outputs": [
    {
     "name": "stdout",
     "output_type": "stream",
     "text": [
      "<class 'pandas.core.frame.DataFrame'>\n",
      "RangeIndex: 9240 entries, 0 to 9239\n",
      "Data columns (total 37 columns):\n",
      " #   Column                                         Non-Null Count  Dtype  \n",
      "---  ------                                         --------------  -----  \n",
      " 0   Prospect ID                                    9240 non-null   object \n",
      " 1   Lead Number                                    9240 non-null   int64  \n",
      " 2   Lead Origin                                    9240 non-null   object \n",
      " 3   Lead Source                                    9204 non-null   object \n",
      " 4   Do Not Email                                   9240 non-null   object \n",
      " 5   Do Not Call                                    9240 non-null   object \n",
      " 6   Converted                                      9240 non-null   int64  \n",
      " 7   TotalVisits                                    9103 non-null   float64\n",
      " 8   Total Time Spent on Website                    9240 non-null   int64  \n",
      " 9   Page Views Per Visit                           9103 non-null   float64\n",
      " 10  Last Activity                                  9137 non-null   object \n",
      " 11  Country                                        6779 non-null   object \n",
      " 12  Specialization                                 7802 non-null   object \n",
      " 13  How did you hear about X Education             7033 non-null   object \n",
      " 14  What is your current occupation                6550 non-null   object \n",
      " 15  What matters most to you in choosing a course  6531 non-null   object \n",
      " 16  Search                                         9240 non-null   object \n",
      " 17  Magazine                                       9240 non-null   object \n",
      " 18  Newspaper Article                              9240 non-null   object \n",
      " 19  X Education Forums                             9240 non-null   object \n",
      " 20  Newspaper                                      9240 non-null   object \n",
      " 21  Digital Advertisement                          9240 non-null   object \n",
      " 22  Through Recommendations                        9240 non-null   object \n",
      " 23  Receive More Updates About Our Courses         9240 non-null   object \n",
      " 24  Tags                                           5887 non-null   object \n",
      " 25  Lead Quality                                   4473 non-null   object \n",
      " 26  Update me on Supply Chain Content              9240 non-null   object \n",
      " 27  Get updates on DM Content                      9240 non-null   object \n",
      " 28  Lead Profile                                   6531 non-null   object \n",
      " 29  City                                           7820 non-null   object \n",
      " 30  Asymmetrique Activity Index                    5022 non-null   object \n",
      " 31  Asymmetrique Profile Index                     5022 non-null   object \n",
      " 32  Asymmetrique Activity Score                    5022 non-null   float64\n",
      " 33  Asymmetrique Profile Score                     5022 non-null   float64\n",
      " 34  I agree to pay the amount through cheque       9240 non-null   object \n",
      " 35  A free copy of Mastering The Interview         9240 non-null   object \n",
      " 36  Last Notable Activity                          9240 non-null   object \n",
      "dtypes: float64(4), int64(3), object(30)\n",
      "memory usage: 2.6+ MB\n"
     ]
    }
   ],
   "source": [
    "df.info()"
   ]
  },
  {
   "cell_type": "code",
   "execution_count": null,
   "id": "fdeb704d",
   "metadata": {},
   "outputs": [],
   "source": []
  },
  {
   "cell_type": "code",
   "execution_count": 4,
   "id": "788e3be2",
   "metadata": {},
   "outputs": [
    {
     "data": {
      "text/html": [
       "<div>\n",
       "<style scoped>\n",
       "    .dataframe tbody tr th:only-of-type {\n",
       "        vertical-align: middle;\n",
       "    }\n",
       "\n",
       "    .dataframe tbody tr th {\n",
       "        vertical-align: top;\n",
       "    }\n",
       "\n",
       "    .dataframe thead th {\n",
       "        text-align: right;\n",
       "    }\n",
       "</style>\n",
       "<table border=\"1\" class=\"dataframe\">\n",
       "  <thead>\n",
       "    <tr style=\"text-align: right;\">\n",
       "      <th></th>\n",
       "      <th>Lead Number</th>\n",
       "      <th>Converted</th>\n",
       "      <th>TotalVisits</th>\n",
       "      <th>Total Time Spent on Website</th>\n",
       "      <th>Page Views Per Visit</th>\n",
       "      <th>Asymmetrique Activity Score</th>\n",
       "      <th>Asymmetrique Profile Score</th>\n",
       "    </tr>\n",
       "  </thead>\n",
       "  <tbody>\n",
       "    <tr>\n",
       "      <th>count</th>\n",
       "      <td>9240.000000</td>\n",
       "      <td>9240.000000</td>\n",
       "      <td>9103.000000</td>\n",
       "      <td>9240.000000</td>\n",
       "      <td>9103.000000</td>\n",
       "      <td>5022.000000</td>\n",
       "      <td>5022.000000</td>\n",
       "    </tr>\n",
       "    <tr>\n",
       "      <th>mean</th>\n",
       "      <td>617188.435606</td>\n",
       "      <td>0.385390</td>\n",
       "      <td>3.445238</td>\n",
       "      <td>487.698268</td>\n",
       "      <td>2.362820</td>\n",
       "      <td>14.306252</td>\n",
       "      <td>16.344883</td>\n",
       "    </tr>\n",
       "    <tr>\n",
       "      <th>std</th>\n",
       "      <td>23405.995698</td>\n",
       "      <td>0.486714</td>\n",
       "      <td>4.854853</td>\n",
       "      <td>548.021466</td>\n",
       "      <td>2.161418</td>\n",
       "      <td>1.386694</td>\n",
       "      <td>1.811395</td>\n",
       "    </tr>\n",
       "    <tr>\n",
       "      <th>min</th>\n",
       "      <td>579533.000000</td>\n",
       "      <td>0.000000</td>\n",
       "      <td>0.000000</td>\n",
       "      <td>0.000000</td>\n",
       "      <td>0.000000</td>\n",
       "      <td>7.000000</td>\n",
       "      <td>11.000000</td>\n",
       "    </tr>\n",
       "    <tr>\n",
       "      <th>25%</th>\n",
       "      <td>596484.500000</td>\n",
       "      <td>0.000000</td>\n",
       "      <td>1.000000</td>\n",
       "      <td>12.000000</td>\n",
       "      <td>1.000000</td>\n",
       "      <td>14.000000</td>\n",
       "      <td>15.000000</td>\n",
       "    </tr>\n",
       "    <tr>\n",
       "      <th>50%</th>\n",
       "      <td>615479.000000</td>\n",
       "      <td>0.000000</td>\n",
       "      <td>3.000000</td>\n",
       "      <td>248.000000</td>\n",
       "      <td>2.000000</td>\n",
       "      <td>14.000000</td>\n",
       "      <td>16.000000</td>\n",
       "    </tr>\n",
       "    <tr>\n",
       "      <th>75%</th>\n",
       "      <td>637387.250000</td>\n",
       "      <td>1.000000</td>\n",
       "      <td>5.000000</td>\n",
       "      <td>936.000000</td>\n",
       "      <td>3.000000</td>\n",
       "      <td>15.000000</td>\n",
       "      <td>18.000000</td>\n",
       "    </tr>\n",
       "    <tr>\n",
       "      <th>max</th>\n",
       "      <td>660737.000000</td>\n",
       "      <td>1.000000</td>\n",
       "      <td>251.000000</td>\n",
       "      <td>2272.000000</td>\n",
       "      <td>55.000000</td>\n",
       "      <td>18.000000</td>\n",
       "      <td>20.000000</td>\n",
       "    </tr>\n",
       "  </tbody>\n",
       "</table>\n",
       "</div>"
      ],
      "text/plain": [
       "         Lead Number    Converted  TotalVisits  Total Time Spent on Website  \\\n",
       "count    9240.000000  9240.000000  9103.000000                  9240.000000   \n",
       "mean   617188.435606     0.385390     3.445238                   487.698268   \n",
       "std     23405.995698     0.486714     4.854853                   548.021466   \n",
       "min    579533.000000     0.000000     0.000000                     0.000000   \n",
       "25%    596484.500000     0.000000     1.000000                    12.000000   \n",
       "50%    615479.000000     0.000000     3.000000                   248.000000   \n",
       "75%    637387.250000     1.000000     5.000000                   936.000000   \n",
       "max    660737.000000     1.000000   251.000000                  2272.000000   \n",
       "\n",
       "       Page Views Per Visit  Asymmetrique Activity Score  \\\n",
       "count           9103.000000                  5022.000000   \n",
       "mean               2.362820                    14.306252   \n",
       "std                2.161418                     1.386694   \n",
       "min                0.000000                     7.000000   \n",
       "25%                1.000000                    14.000000   \n",
       "50%                2.000000                    14.000000   \n",
       "75%                3.000000                    15.000000   \n",
       "max               55.000000                    18.000000   \n",
       "\n",
       "       Asymmetrique Profile Score  \n",
       "count                 5022.000000  \n",
       "mean                    16.344883  \n",
       "std                      1.811395  \n",
       "min                     11.000000  \n",
       "25%                     15.000000  \n",
       "50%                     16.000000  \n",
       "75%                     18.000000  \n",
       "max                     20.000000  "
      ]
     },
     "execution_count": 4,
     "metadata": {},
     "output_type": "execute_result"
    }
   ],
   "source": [
    "df.describe()"
   ]
  },
  {
   "cell_type": "code",
   "execution_count": null,
   "id": "ce0d7fba",
   "metadata": {},
   "outputs": [],
   "source": []
  },
  {
   "cell_type": "code",
   "execution_count": 7,
   "id": "962e0729",
   "metadata": {},
   "outputs": [],
   "source": [
    "## check for duplicates"
   ]
  },
  {
   "cell_type": "code",
   "execution_count": 12,
   "id": "5121e00a",
   "metadata": {},
   "outputs": [
    {
     "data": {
      "text/plain": [
       "True"
      ]
     },
     "execution_count": 12,
     "metadata": {},
     "output_type": "execute_result"
    }
   ],
   "source": [
    "sum(df.duplicated(subset = 'Prospect ID')) == 0"
   ]
  },
  {
   "cell_type": "code",
   "execution_count": 13,
   "id": "fc54baca",
   "metadata": {},
   "outputs": [],
   "source": [
    "# No duplicate values in Prospect ID"
   ]
  },
  {
   "cell_type": "code",
   "execution_count": 15,
   "id": "0c9bbfeb",
   "metadata": {},
   "outputs": [
    {
     "data": {
      "text/plain": [
       "True"
      ]
     },
     "execution_count": 15,
     "metadata": {},
     "output_type": "execute_result"
    }
   ],
   "source": [
    "sum(df.duplicated(subset = 'Lead Number')) == 0"
   ]
  },
  {
   "cell_type": "code",
   "execution_count": 16,
   "id": "04f40ef4",
   "metadata": {},
   "outputs": [],
   "source": [
    "# Clearly Prospect ID & Lead Number are two variables that are just indicative of the ID number of the Contacted People & can be dropped."
   ]
  },
  {
   "cell_type": "code",
   "execution_count": null,
   "id": "8806452f",
   "metadata": {},
   "outputs": [],
   "source": []
  },
  {
   "cell_type": "code",
   "execution_count": 17,
   "id": "e1f65b0b",
   "metadata": {},
   "outputs": [],
   "source": [
    "# EXPLORATORY DATA ANALYSIS"
   ]
  },
  {
   "cell_type": "code",
   "execution_count": 18,
   "id": "001fea96",
   "metadata": {},
   "outputs": [],
   "source": [
    "# Data Cleaning"
   ]
  },
  {
   "cell_type": "code",
   "execution_count": 19,
   "id": "dd15b2d0",
   "metadata": {},
   "outputs": [],
   "source": [
    "# checking null values in each rows"
   ]
  },
  {
   "cell_type": "code",
   "execution_count": 22,
   "id": "44685020",
   "metadata": {},
   "outputs": [
    {
     "data": {
      "text/plain": [
       "Prospect ID                                         0\n",
       "Lead Number                                         0\n",
       "Lead Origin                                         0\n",
       "Lead Source                                        36\n",
       "Do Not Email                                        0\n",
       "Do Not Call                                         0\n",
       "Converted                                           0\n",
       "TotalVisits                                       137\n",
       "Total Time Spent on Website                         0\n",
       "Page Views Per Visit                              137\n",
       "Last Activity                                     103\n",
       "Country                                          2461\n",
       "Specialization                                   1438\n",
       "How did you hear about X Education               2207\n",
       "What is your current occupation                  2690\n",
       "What matters most to you in choosing a course    2709\n",
       "Search                                              0\n",
       "Magazine                                            0\n",
       "Newspaper Article                                   0\n",
       "X Education Forums                                  0\n",
       "Newspaper                                           0\n",
       "Digital Advertisement                               0\n",
       "Through Recommendations                             0\n",
       "Receive More Updates About Our Courses              0\n",
       "Tags                                             3353\n",
       "Lead Quality                                     4767\n",
       "Update me on Supply Chain Content                   0\n",
       "Get updates on DM Content                           0\n",
       "Lead Profile                                     2709\n",
       "City                                             1420\n",
       "Asymmetrique Activity Index                      4218\n",
       "Asymmetrique Profile Index                       4218\n",
       "Asymmetrique Activity Score                      4218\n",
       "Asymmetrique Profile Score                       4218\n",
       "I agree to pay the amount through cheque            0\n",
       "A free copy of Mastering The Interview              0\n",
       "Last Notable Activity                               0\n",
       "dtype: int64"
      ]
     },
     "execution_count": 22,
     "metadata": {},
     "output_type": "execute_result"
    }
   ],
   "source": [
    "df.isnull().sum()"
   ]
  },
  {
   "cell_type": "code",
   "execution_count": null,
   "id": "ad7268e7",
   "metadata": {},
   "outputs": [],
   "source": []
  },
  {
   "cell_type": "code",
   "execution_count": 23,
   "id": "c83fe2c8",
   "metadata": {},
   "outputs": [],
   "source": [
    "#checking percentage of null values in each column"
   ]
  },
  {
   "cell_type": "code",
   "execution_count": 28,
   "id": "a6965572",
   "metadata": {},
   "outputs": [
    {
     "data": {
      "text/plain": [
       "Prospect ID                                       0.00\n",
       "Lead Number                                       0.00\n",
       "Lead Origin                                       0.00\n",
       "Lead Source                                       0.39\n",
       "Do Not Email                                      0.00\n",
       "Do Not Call                                       0.00\n",
       "Converted                                         0.00\n",
       "TotalVisits                                       1.48\n",
       "Total Time Spent on Website                       0.00\n",
       "Page Views Per Visit                              1.48\n",
       "Last Activity                                     1.11\n",
       "Country                                          26.63\n",
       "Specialization                                   15.56\n",
       "How did you hear about X Education               23.89\n",
       "What is your current occupation                  29.11\n",
       "What matters most to you in choosing a course    29.32\n",
       "Search                                            0.00\n",
       "Magazine                                          0.00\n",
       "Newspaper Article                                 0.00\n",
       "X Education Forums                                0.00\n",
       "Newspaper                                         0.00\n",
       "Digital Advertisement                             0.00\n",
       "Through Recommendations                           0.00\n",
       "Receive More Updates About Our Courses            0.00\n",
       "Tags                                             36.29\n",
       "Lead Quality                                     51.59\n",
       "Update me on Supply Chain Content                 0.00\n",
       "Get updates on DM Content                         0.00\n",
       "Lead Profile                                     29.32\n",
       "City                                             15.37\n",
       "Asymmetrique Activity Index                      45.65\n",
       "Asymmetrique Profile Index                       45.65\n",
       "Asymmetrique Activity Score                      45.65\n",
       "Asymmetrique Profile Score                       45.65\n",
       "I agree to pay the amount through cheque          0.00\n",
       "A free copy of Mastering The Interview            0.00\n",
       "Last Notable Activity                             0.00\n",
       "dtype: float64"
      ]
     },
     "execution_count": 28,
     "metadata": {},
     "output_type": "execute_result"
    }
   ],
   "source": [
    "round(100*(df.isnull().sum()/len(df.index)), 2)"
   ]
  },
  {
   "cell_type": "code",
   "execution_count": null,
   "id": "2e648891",
   "metadata": {},
   "outputs": [],
   "source": []
  },
  {
   "cell_type": "code",
   "execution_count": 29,
   "id": "0ce2e7ce",
   "metadata": {},
   "outputs": [],
   "source": [
    "#dropping cols with more than 45% missing values"
   ]
  },
  {
   "cell_type": "code",
   "execution_count": 33,
   "id": "0b892231",
   "metadata": {},
   "outputs": [],
   "source": [
    "cols=df.columns"
   ]
  },
  {
   "cell_type": "code",
   "execution_count": 34,
   "id": "669d3679",
   "metadata": {},
   "outputs": [],
   "source": [
    "\n",
    "for i in cols:\n",
    "    if((100*(df[i].isnull().sum()/len(df.index))) >= 45):\n",
    "        df.drop(i, 1, inplace = True)"
   ]
  },
  {
   "cell_type": "code",
   "execution_count": null,
   "id": "19f61f4d",
   "metadata": {},
   "outputs": [],
   "source": []
  },
  {
   "cell_type": "code",
   "execution_count": 35,
   "id": "3210f692",
   "metadata": {},
   "outputs": [],
   "source": [
    "# checking null values percentage"
   ]
  },
  {
   "cell_type": "code",
   "execution_count": 36,
   "id": "1adda59d",
   "metadata": {},
   "outputs": [
    {
     "data": {
      "text/plain": [
       "Prospect ID                                       0.00\n",
       "Lead Number                                       0.00\n",
       "Lead Origin                                       0.00\n",
       "Lead Source                                       0.39\n",
       "Do Not Email                                      0.00\n",
       "Do Not Call                                       0.00\n",
       "Converted                                         0.00\n",
       "TotalVisits                                       1.48\n",
       "Total Time Spent on Website                       0.00\n",
       "Page Views Per Visit                              1.48\n",
       "Last Activity                                     1.11\n",
       "Country                                          26.63\n",
       "Specialization                                   15.56\n",
       "How did you hear about X Education               23.89\n",
       "What is your current occupation                  29.11\n",
       "What matters most to you in choosing a course    29.32\n",
       "Search                                            0.00\n",
       "Magazine                                          0.00\n",
       "Newspaper Article                                 0.00\n",
       "X Education Forums                                0.00\n",
       "Newspaper                                         0.00\n",
       "Digital Advertisement                             0.00\n",
       "Through Recommendations                           0.00\n",
       "Receive More Updates About Our Courses            0.00\n",
       "Tags                                             36.29\n",
       "Update me on Supply Chain Content                 0.00\n",
       "Get updates on DM Content                         0.00\n",
       "Lead Profile                                     29.32\n",
       "City                                             15.37\n",
       "I agree to pay the amount through cheque          0.00\n",
       "A free copy of Mastering The Interview            0.00\n",
       "Last Notable Activity                             0.00\n",
       "dtype: float64"
      ]
     },
     "execution_count": 36,
     "metadata": {},
     "output_type": "execute_result"
    }
   ],
   "source": [
    "round(100*(df.isnull().sum()/len(df.index)), 2)\n"
   ]
  },
  {
   "cell_type": "code",
   "execution_count": null,
   "id": "03940ebe",
   "metadata": {},
   "outputs": [],
   "source": []
  },
  {
   "cell_type": "code",
   "execution_count": 37,
   "id": "b60ac226",
   "metadata": {},
   "outputs": [],
   "source": [
    "# Categorical Attributes Analysis"
   ]
  },
  {
   "cell_type": "code",
   "execution_count": 38,
   "id": "acf75f5b",
   "metadata": {},
   "outputs": [],
   "source": [
    "# checking value counts of Country column"
   ]
  },
  {
   "cell_type": "code",
   "execution_count": 39,
   "id": "2dc20873",
   "metadata": {},
   "outputs": [
    {
     "data": {
      "text/plain": [
       "India                   6492\n",
       "NaN                     2461\n",
       "United States             69\n",
       "United Arab Emirates      53\n",
       "Singapore                 24\n",
       "Saudi Arabia              21\n",
       "United Kingdom            15\n",
       "Australia                 13\n",
       "Qatar                     10\n",
       "Bahrain                    7\n",
       "Hong Kong                  7\n",
       "Oman                       6\n",
       "France                     6\n",
       "unknown                    5\n",
       "Kuwait                     4\n",
       "South Africa               4\n",
       "Canada                     4\n",
       "Nigeria                    4\n",
       "Germany                    4\n",
       "Sweden                     3\n",
       "Philippines                2\n",
       "Uganda                     2\n",
       "Italy                      2\n",
       "Bangladesh                 2\n",
       "Netherlands                2\n",
       "Asia/Pacific Region        2\n",
       "China                      2\n",
       "Belgium                    2\n",
       "Ghana                      2\n",
       "Kenya                      1\n",
       "Sri Lanka                  1\n",
       "Tanzania                   1\n",
       "Malaysia                   1\n",
       "Liberia                    1\n",
       "Switzerland                1\n",
       "Denmark                    1\n",
       "Russia                     1\n",
       "Vietnam                    1\n",
       "Indonesia                  1\n",
       "Name: Country, dtype: int64"
      ]
     },
     "execution_count": 39,
     "metadata": {},
     "output_type": "execute_result"
    }
   ],
   "source": [
    "df['Country'].value_counts(dropna=False)\n"
   ]
  },
  {
   "cell_type": "code",
   "execution_count": null,
   "id": "9df0049c",
   "metadata": {},
   "outputs": [],
   "source": []
  },
  {
   "cell_type": "code",
   "execution_count": 41,
   "id": "6b949e88",
   "metadata": {},
   "outputs": [
    {
     "data": {
      "image/png": "[encoded data removed]",
      "text/plain": [
       "<Figure size 1080x360 with 1 Axes>"
      ]
     },
     "metadata": {},
     "output_type": "display_data"
    }
   ],
   "source": [
    "#### plotting spread of Country columnn \n",
    "plt.figure(figsize=(15,5))\n",
    "s1=sns.countplot(df.Country, hue=df.Converted)\n",
    "s1.set_xticklabels(s1.get_xticklabels(),rotation=90)\n",
    "plt.show()"
   ]
  },
  {
   "cell_type": "code",
   "execution_count": 42,
   "id": "3c95ce75",
   "metadata": {},
   "outputs": [],
   "source": [
    "# India is the most common occurence among the non-missing values we can impute all missing values with India"
   ]
  },
  {
   "cell_type": "code",
   "execution_count": 44,
   "id": "265d7ea3",
   "metadata": {},
   "outputs": [],
   "source": [
    "df['Country'] = df['Country'].replace(np.nan,'India')"
   ]
  },
  {
   "cell_type": "code",
   "execution_count": null,
   "id": "f9229c82",
   "metadata": {},
   "outputs": [],
   "source": []
  },
  {
   "cell_type": "code",
   "execution_count": 45,
   "id": "cf742645",
   "metadata": {},
   "outputs": [],
   "source": [
    "#plotting spread of Country columnn after replacing NaN values"
   ]
  },
  {
   "cell_type": "code",
   "execution_count": 46,
   "id": "c1228dd6",
   "metadata": {},
   "outputs": [
    {
     "data": {
      "image/png": "[encoded data removed]",
      "text/plain": [
       "<Figure size 1080x360 with 1 Axes>"
      ]
     },
     "metadata": {},
     "output_type": "display_data"
    }
   ],
   "source": [
    "plt.figure(figsize=(15,5))\n",
    "s1=sns.countplot(df.Country, hue=df.Converted)\n",
    "s1.set_xticklabels(s1.get_xticklabels(),rotation=90)\n",
    "plt.show()"
   ]
  },
  {
   "cell_type": "code",
   "execution_count": 47,
   "id": "e8ebfbb2",
   "metadata": {},
   "outputs": [],
   "source": [
    "#  the Number of Values for India are quite high (nearly 97% of the Data), this column can be dropped"
   ]
  },
  {
   "cell_type": "code",
   "execution_count": null,
   "id": "e682f009",
   "metadata": {},
   "outputs": [],
   "source": []
  },
  {
   "cell_type": "code",
   "execution_count": 48,
   "id": "24e03508",
   "metadata": {},
   "outputs": [],
   "source": [
    "#creating a list of columns to be droppped"
   ]
  },
  {
   "cell_type": "code",
   "execution_count": 49,
   "id": "01701112",
   "metadata": {},
   "outputs": [],
   "source": [
    "cols_to_drop=['Country']"
   ]
  },
  {
   "cell_type": "code",
   "execution_count": null,
   "id": "799b0aa4",
   "metadata": {},
   "outputs": [],
   "source": []
  },
  {
   "cell_type": "code",
   "execution_count": 50,
   "id": "5c540ff3",
   "metadata": {},
   "outputs": [],
   "source": [
    "#checking value counts of \"City\" column"
   ]
  },
  {
   "cell_type": "code",
   "execution_count": 55,
   "id": "b377bcf6",
   "metadata": {},
   "outputs": [
    {
     "data": {
      "text/plain": [
       "Mumbai                         4642\n",
       "Select                         2249\n",
       "Thane & Outskirts               752\n",
       "Other Cities                    686\n",
       "Other Cities of Maharashtra     457\n",
       "Other Metro Cities              380\n",
       "Tier II Cities                   74\n",
       "Name: City, dtype: int64"
      ]
     },
     "execution_count": 55,
     "metadata": {},
     "output_type": "execute_result"
    }
   ],
   "source": [
    "df['City'].value_counts(dropna=False)"
   ]
  },
  {
   "cell_type": "code",
   "execution_count": 57,
   "id": "ea3a9dc2",
   "metadata": {},
   "outputs": [],
   "source": [
    "df['City'] = df['City'].replace(np.nan,'Mumbai')"
   ]
  },
  {
   "cell_type": "code",
   "execution_count": 58,
   "id": "ee0c321d",
   "metadata": {},
   "outputs": [],
   "source": [
    "#plotting spread of City columnn after replacing NaN values"
   ]
  },
  {
   "cell_type": "code",
   "execution_count": 59,
   "id": "5fd29ed2",
   "metadata": {},
   "outputs": [
    {
     "data": {
      "image/png": "[encoded data removed]",
      "text/plain": [
       "<Figure size 720x360 with 1 Axes>"
      ]
     },
     "metadata": {},
     "output_type": "display_data"
    }
   ],
   "source": [
    "plt.figure(figsize=(10,5))\n",
    "s1=sns.countplot(df.City, hue=df.Converted)\n",
    "s1.set_xticklabels(s1.get_xticklabels(),rotation=90)\n",
    "plt.show()"
   ]
  },
  {
   "cell_type": "code",
   "execution_count": 60,
   "id": "7f55668b",
   "metadata": {},
   "outputs": [],
   "source": [
    "#checking value counts of Specialization column"
   ]
  },
  {
   "cell_type": "code",
   "execution_count": 62,
   "id": "383293b1",
   "metadata": {},
   "outputs": [
    {
     "data": {
      "text/plain": [
       "Select                               1942\n",
       "NaN                                  1438\n",
       "Finance Management                    976\n",
       "Human Resource Management             848\n",
       "Marketing Management                  838\n",
       "Operations Management                 503\n",
       "Business Administration               403\n",
       "IT Projects Management                366\n",
       "Supply Chain Management               349\n",
       "Banking, Investment And Insurance     338\n",
       "Travel and Tourism                    203\n",
       "Media and Advertising                 203\n",
       "International Business                178\n",
       "Healthcare Management                 159\n",
       "Hospitality Management                114\n",
       "E-COMMERCE                            112\n",
       "Retail Management                     100\n",
       "Rural and Agribusiness                 73\n",
       "E-Business                             57\n",
       "Services Excellence                    40\n",
       "Name: Specialization, dtype: int64"
      ]
     },
     "execution_count": 62,
     "metadata": {},
     "output_type": "execute_result"
    }
   ],
   "source": [
    "df['Specialization'].value_counts(dropna=False)"
   ]
  },
  {
   "cell_type": "code",
   "execution_count": null,
   "id": "691dcf56",
   "metadata": {},
   "outputs": [],
   "source": []
  },
  {
   "cell_type": "code",
   "execution_count": 63,
   "id": "7bff7c0b",
   "metadata": {},
   "outputs": [],
   "source": [
    "# Lead may not have mentioned specialization because it was not in the list or maybe they are a students and don't have a specialization yet. So we will replace NaN values here with 'Not Specified'"
   ]
  },
  {
   "cell_type": "code",
   "execution_count": 64,
   "id": "6b3af181",
   "metadata": {},
   "outputs": [],
   "source": [
    "df['Specialization'] = df['Specialization'].replace(np.nan, 'Not Specified')"
   ]
  },
  {
   "cell_type": "code",
   "execution_count": null,
   "id": "c0116549",
   "metadata": {},
   "outputs": [],
   "source": []
  },
  {
   "cell_type": "code",
   "execution_count": 65,
   "id": "31751b2f",
   "metadata": {},
   "outputs": [],
   "source": [
    "# plotting spread of Specialization columnn "
   ]
  },
  {
   "cell_type": "code",
   "execution_count": 66,
   "id": "a5819303",
   "metadata": {},
   "outputs": [
    {
     "data": {
      "image/png": "[encoded data removed]",
      "text/plain": [
       "<Figure size 1080x360 with 1 Axes>"
      ]
     },
     "metadata": {},
     "output_type": "display_data"
    }
   ],
   "source": [
    "plt.figure(figsize=(15,5))\n",
    "s1=sns.countplot(df.Specialization, hue=df.Converted)\n",
    "s1.set_xticklabels(s1.get_xticklabels(),rotation=90)\n",
    "plt.show()"
   ]
  },
  {
   "cell_type": "code",
   "execution_count": 67,
   "id": "95a01598",
   "metadata": {},
   "outputs": [],
   "source": [
    "# have seen that specialization with Management in them have higher number of leads as well as leads converted. So this is definitely a significant variable and should not be dropped."
   ]
  },
  {
   "cell_type": "code",
   "execution_count": null,
   "id": "57bd7954",
   "metadata": {},
   "outputs": [],
   "source": []
  },
  {
   "cell_type": "code",
   "execution_count": 68,
   "id": "3ba0fdaf",
   "metadata": {},
   "outputs": [],
   "source": [
    "# visualizing count of Variable based on Converted value"
   ]
  },
  {
   "cell_type": "code",
   "execution_count": 69,
   "id": "d88b5759",
   "metadata": {},
   "outputs": [
    {
     "data": {
      "image/png": "[encoded data removed]",
      "text/plain": [
       "<Figure size 1080x360 with 1 Axes>"
      ]
     },
     "metadata": {},
     "output_type": "display_data"
    }
   ],
   "source": [
    "plt.figure(figsize=(15,5))\n",
    "s1=sns.countplot(df.Specialization, hue=df.Converted)\n",
    "s1.set_xticklabels(s1.get_xticklabels(),rotation=90)\n",
    "plt.show()"
   ]
  },
  {
   "cell_type": "code",
   "execution_count": null,
   "id": "abf21889",
   "metadata": {},
   "outputs": [],
   "source": []
  },
  {
   "cell_type": "code",
   "execution_count": 70,
   "id": "69160682",
   "metadata": {},
   "outputs": [],
   "source": [
    "# What is your current occupation\n"
   ]
  },
  {
   "cell_type": "code",
   "execution_count": 74,
   "id": "7c9ef4d2",
   "metadata": {},
   "outputs": [
    {
     "data": {
      "text/plain": [
       "Unemployed              5600\n",
       "NaN                     2690\n",
       "Working Professional     706\n",
       "Student                  210\n",
       "Other                     16\n",
       "Housewife                 10\n",
       "Businessman                8\n",
       "Name: What is your current occupation, dtype: int64"
      ]
     },
     "execution_count": 74,
     "metadata": {},
     "output_type": "execute_result"
    }
   ],
   "source": [
    "df['What is your current occupation'].value_counts(dropna=False)"
   ]
  },
  {
   "cell_type": "code",
   "execution_count": null,
   "id": "ba83893f",
   "metadata": {},
   "outputs": [],
   "source": []
  },
  {
   "cell_type": "code",
   "execution_count": 75,
   "id": "9666e69a",
   "metadata": {},
   "outputs": [],
   "source": [
    "# Imputing Nan values with mode \"Unemployed\""
   ]
  },
  {
   "cell_type": "code",
   "execution_count": 76,
   "id": "c40fb663",
   "metadata": {},
   "outputs": [],
   "source": [
    "df['What is your current occupation'] = df['What is your current occupation'].replace(np.nan, 'Unemployed')"
   ]
  },
  {
   "cell_type": "code",
   "execution_count": 77,
   "id": "9e8f7013",
   "metadata": {},
   "outputs": [],
   "source": [
    "# checking count of values"
   ]
  },
  {
   "cell_type": "code",
   "execution_count": 78,
   "id": "2b460cda",
   "metadata": {},
   "outputs": [
    {
     "data": {
      "text/plain": [
       "Unemployed              8290\n",
       "Working Professional     706\n",
       "Student                  210\n",
       "Other                     16\n",
       "Housewife                 10\n",
       "Businessman                8\n",
       "Name: What is your current occupation, dtype: int64"
      ]
     },
     "execution_count": 78,
     "metadata": {},
     "output_type": "execute_result"
    }
   ],
   "source": [
    "df['What is your current occupation'].value_counts(dropna=False)"
   ]
  },
  {
   "cell_type": "code",
   "execution_count": null,
   "id": "fe9f63e4",
   "metadata": {},
   "outputs": [],
   "source": []
  },
  {
   "cell_type": "code",
   "execution_count": 79,
   "id": "8b631b7d",
   "metadata": {},
   "outputs": [],
   "source": [
    "# visualizing count of Variable based on Converted value"
   ]
  },
  {
   "cell_type": "code",
   "execution_count": 81,
   "id": "72fa2143",
   "metadata": {},
   "outputs": [
    {
     "data": {
      "image/png": "[encoded data removed]",
      "text/plain": [
       "<Figure size 432x288 with 1 Axes>"
      ]
     },
     "metadata": {},
     "output_type": "display_data"
    }
   ],
   "source": [
    "s1=sns.countplot(df['What is your current occupation'], hue=df.Converted)\n",
    "s1.set_xticklabels(s1.get_xticklabels(),rotation=90)\n",
    "plt.show()"
   ]
  },
  {
   "cell_type": "code",
   "execution_count": 82,
   "id": "3400e2f1",
   "metadata": {},
   "outputs": [],
   "source": [
    "## checking value counts"
   ]
  },
  {
   "cell_type": "code",
   "execution_count": 83,
   "id": "c2291e6a",
   "metadata": {},
   "outputs": [
    {
     "data": {
      "text/plain": [
       "Better Career Prospects      6528\n",
       "NaN                          2709\n",
       "Flexibility & Convenience       2\n",
       "Other                           1\n",
       "Name: What matters most to you in choosing a course, dtype: int64"
      ]
     },
     "execution_count": 83,
     "metadata": {},
     "output_type": "execute_result"
    }
   ],
   "source": [
    "df['What matters most to you in choosing a course'].value_counts(dropna=False)"
   ]
  },
  {
   "cell_type": "code",
   "execution_count": 84,
   "id": "53ab049d",
   "metadata": {},
   "outputs": [],
   "source": [
    "## replacing Nan values with Mode \"Better Career Prospects\""
   ]
  },
  {
   "cell_type": "code",
   "execution_count": 85,
   "id": "7bf571da",
   "metadata": {},
   "outputs": [],
   "source": [
    "df['What matters most to you in choosing a course'] = df['What matters most to you in choosing a course'].replace(np.nan,'Better Career Prospects')"
   ]
  },
  {
   "cell_type": "code",
   "execution_count": null,
   "id": "c2943857",
   "metadata": {},
   "outputs": [],
   "source": []
  },
  {
   "cell_type": "code",
   "execution_count": 86,
   "id": "f8599d82",
   "metadata": {},
   "outputs": [],
   "source": [
    "## visualizing count of Variable based on Converted value"
   ]
  },
  {
   "cell_type": "code",
   "execution_count": 87,
   "id": "1792a394",
   "metadata": {},
   "outputs": [
    {
     "data": {
      "image/png": "[encoded data removed]",
      "text/plain": [
       "<Figure size 432x288 with 1 Axes>"
      ]
     },
     "metadata": {},
     "output_type": "display_data"
    }
   ],
   "source": [
    "s1=sns.countplot(df['What matters most to you in choosing a course'], hue=df.Converted)\n",
    "s1.set_xticklabels(s1.get_xticklabels(),rotation=90)\n",
    "plt.show()"
   ]
  },
  {
   "cell_type": "code",
   "execution_count": 88,
   "id": "ed2706f0",
   "metadata": {},
   "outputs": [],
   "source": [
    "#checking value counts of variable"
   ]
  },
  {
   "cell_type": "code",
   "execution_count": 89,
   "id": "2f7e9b17",
   "metadata": {},
   "outputs": [
    {
     "data": {
      "text/plain": [
       "Better Career Prospects      9237\n",
       "Flexibility & Convenience       2\n",
       "Other                           1\n",
       "Name: What matters most to you in choosing a course, dtype: int64"
      ]
     },
     "execution_count": 89,
     "metadata": {},
     "output_type": "execute_result"
    }
   ],
   "source": [
    "df['What matters most to you in choosing a course'].value_counts(dropna=False)"
   ]
  },
  {
   "cell_type": "code",
   "execution_count": null,
   "id": "a780e18f",
   "metadata": {},
   "outputs": [],
   "source": []
  },
  {
   "cell_type": "code",
   "execution_count": 90,
   "id": "db44d5d6",
   "metadata": {},
   "outputs": [],
   "source": [
    "# Here again we have another Column that is worth Dropping. So we Append to the cols_to_drop List"
   ]
  },
  {
   "cell_type": "code",
   "execution_count": 91,
   "id": "a370e52b",
   "metadata": {},
   "outputs": [
    {
     "data": {
      "text/plain": [
       "['Country', 'What matters most to you in choosing a course']"
      ]
     },
     "execution_count": 91,
     "metadata": {},
     "output_type": "execute_result"
    }
   ],
   "source": [
    "cols_to_drop.append('What matters most to you in choosing a course')\n",
    "cols_to_drop"
   ]
  },
  {
   "cell_type": "code",
   "execution_count": null,
   "id": "0be2c96f",
   "metadata": {},
   "outputs": [],
   "source": []
  },
  {
   "cell_type": "code",
   "execution_count": 92,
   "id": "ab541241",
   "metadata": {},
   "outputs": [],
   "source": [
    "# checking value counts of Tag variable"
   ]
  },
  {
   "cell_type": "code",
   "execution_count": 93,
   "id": "baaaa6dc",
   "metadata": {},
   "outputs": [
    {
     "data": {
      "text/plain": [
       "NaN                                                  3353\n",
       "Will revert after reading the email                  2072\n",
       "Ringing                                              1203\n",
       "Interested in other courses                           513\n",
       "Already a student                                     465\n",
       "Closed by Horizzon                                    358\n",
       "switched off                                          240\n",
       "Busy                                                  186\n",
       "Lost to EINS                                          175\n",
       "Not doing further education                           145\n",
       "Interested  in full time MBA                          117\n",
       "Graduation in progress                                111\n",
       "invalid number                                         83\n",
       "Diploma holder (Not Eligible)                          63\n",
       "wrong number given                                     47\n",
       "opp hangup                                             33\n",
       "number not provided                                    27\n",
       "in touch with EINS                                     12\n",
       "Lost to Others                                          7\n",
       "Still Thinking                                          6\n",
       "Want to take admission but has financial problems       6\n",
       "In confusion whether part time or DLP                   5\n",
       "Interested in Next batch                                5\n",
       "Lateral student                                         3\n",
       "Shall take in the next coming month                     2\n",
       "University not recognized                               2\n",
       "Recognition issue (DEC approval)                        1\n",
       "Name: Tags, dtype: int64"
      ]
     },
     "execution_count": 93,
     "metadata": {},
     "output_type": "execute_result"
    }
   ],
   "source": [
    "df['Tags'].value_counts(dropna=False)"
   ]
  },
  {
   "cell_type": "code",
   "execution_count": null,
   "id": "f6b73200",
   "metadata": {},
   "outputs": [],
   "source": []
  },
  {
   "cell_type": "code",
   "execution_count": 94,
   "id": "4ef0600b",
   "metadata": {},
   "outputs": [],
   "source": [
    "## Replacing Nan values with \"Not Specified\"\n",
    "df['Tags'] = df['Tags'].replace(np.nan,'Not Specified')"
   ]
  },
  {
   "cell_type": "code",
   "execution_count": null,
   "id": "7e3a3275",
   "metadata": {},
   "outputs": [],
   "source": []
  },
  {
   "cell_type": "code",
   "execution_count": 95,
   "id": "9d421c80",
   "metadata": {},
   "outputs": [],
   "source": [
    "### Visualizing count of Variable based on Converted value"
   ]
  },
  {
   "cell_type": "code",
   "execution_count": 96,
   "id": "625dea41",
   "metadata": {},
   "outputs": [
    {
     "data": {
      "image/png": "[encoded data removed]",
      "text/plain": [
       "<Figure size 1080x360 with 1 Axes>"
      ]
     },
     "metadata": {},
     "output_type": "display_data"
    }
   ],
   "source": [
    "plt.figure(figsize=(15,5))\n",
    "s1=sns.countplot(df['Tags'], hue=df.Converted)\n",
    "s1.set_xticklabels(s1.get_xticklabels(),rotation=90)\n",
    "plt.show()"
   ]
  },
  {
   "cell_type": "code",
   "execution_count": null,
   "id": "a7a27883",
   "metadata": {},
   "outputs": [],
   "source": []
  },
  {
   "cell_type": "code",
   "execution_count": 98,
   "id": "b61eec60",
   "metadata": {},
   "outputs": [],
   "source": [
    "## checking percentage of missing values"
   ]
  },
  {
   "cell_type": "code",
   "execution_count": 102,
   "id": "96c0b228",
   "metadata": {},
   "outputs": [
    {
     "data": {
      "text/plain": [
       "Prospect ID                                       0.00\n",
       "Lead Number                                       0.00\n",
       "Lead Origin                                       0.00\n",
       "Lead Source                                       0.39\n",
       "Do Not Email                                      0.00\n",
       "Do Not Call                                       0.00\n",
       "Converted                                         0.00\n",
       "TotalVisits                                       1.48\n",
       "Total Time Spent on Website                       0.00\n",
       "Page Views Per Visit                              1.48\n",
       "Last Activity                                     1.11\n",
       "Country                                           0.00\n",
       "Specialization                                    0.00\n",
       "How did you hear about X Education               23.89\n",
       "What is your current occupation                   0.00\n",
       "What matters most to you in choosing a course     0.00\n",
       "Search                                            0.00\n",
       "Magazine                                          0.00\n",
       "Newspaper Article                                 0.00\n",
       "X Education Forums                                0.00\n",
       "Newspaper                                         0.00\n",
       "Digital Advertisement                             0.00\n",
       "Through Recommendations                           0.00\n",
       "Receive More Updates About Our Courses            0.00\n",
       "Tags                                              0.00\n",
       "Update me on Supply Chain Content                 0.00\n",
       "Get updates on DM Content                         0.00\n",
       "Lead Profile                                     29.32\n",
       "City                                              0.00\n",
       "I agree to pay the amount through cheque          0.00\n",
       "A free copy of Mastering The Interview            0.00\n",
       "Last Notable Activity                             0.00\n",
       "dtype: float64"
      ]
     },
     "execution_count": 102,
     "metadata": {},
     "output_type": "execute_result"
    }
   ],
   "source": [
    "round(100*(df.isnull().sum()/len(df.index)), 2)"
   ]
  },
  {
   "cell_type": "code",
   "execution_count": null,
   "id": "8c6e69fa",
   "metadata": {},
   "outputs": [],
   "source": []
  },
  {
   "cell_type": "code",
   "execution_count": 103,
   "id": "32eaf229",
   "metadata": {},
   "outputs": [],
   "source": [
    "#checking value counts of Lead Source column"
   ]
  },
  {
   "cell_type": "code",
   "execution_count": 104,
   "id": "b17ea07b",
   "metadata": {},
   "outputs": [
    {
     "data": {
      "text/plain": [
       "Google               2868\n",
       "Direct Traffic       2543\n",
       "Olark Chat           1755\n",
       "Organic Search       1154\n",
       "Reference             534\n",
       "Welingak Website      142\n",
       "Referral Sites        125\n",
       "Facebook               55\n",
       "NaN                    36\n",
       "bing                    6\n",
       "google                  5\n",
       "Click2call              4\n",
       "Press_Release           2\n",
       "Social Media            2\n",
       "Live Chat               2\n",
       "youtubechannel          1\n",
       "testone                 1\n",
       "Pay per Click Ads       1\n",
       "welearnblog_Home        1\n",
       "WeLearn                 1\n",
       "blog                    1\n",
       "NC_EDM                  1\n",
       "Name: Lead Source, dtype: int64"
      ]
     },
     "execution_count": 104,
     "metadata": {},
     "output_type": "execute_result"
    }
   ],
   "source": [
    "df['Lead Source'].value_counts(dropna=False)"
   ]
  },
  {
   "cell_type": "code",
   "execution_count": null,
   "id": "c1337316",
   "metadata": {},
   "outputs": [],
   "source": []
  },
  {
   "cell_type": "code",
   "execution_count": 105,
   "id": "b913d30f",
   "metadata": {},
   "outputs": [],
   "source": [
    "## visualizing count of Variable based on Converted value"
   ]
  },
  {
   "cell_type": "code",
   "execution_count": 106,
   "id": "c95c655f",
   "metadata": {},
   "outputs": [
    {
     "data": {
      "image/png": "[encoded data removed]",
      "text/plain": [
       "<Figure size 1080x360 with 1 Axes>"
      ]
     },
     "metadata": {},
     "output_type": "display_data"
    }
   ],
   "source": [
    "plt.figure(figsize=(15,5))\n",
    "s1=sns.countplot(df['Lead Source'], hue=df.Converted)\n",
    "s1.set_xticklabels(s1.get_xticklabels(),rotation=90)\n",
    "plt.show()"
   ]
  },
  {
   "cell_type": "code",
   "execution_count": null,
   "id": "8f34447c",
   "metadata": {},
   "outputs": [],
   "source": [
    "# Inference\n",
    "# Maximum number of leads are generated by Google and Direct traffic.\n",
    "# Conversion Rate of reference leads and leads through welingak website is high."
   ]
  },
  {
   "cell_type": "code",
   "execution_count": null,
   "id": "bd09f2a4",
   "metadata": {},
   "outputs": [],
   "source": []
  },
  {
   "cell_type": "code",
   "execution_count": 107,
   "id": "6ece7985",
   "metadata": {},
   "outputs": [
    {
     "data": {
      "text/plain": [
       "Email Opened                    3437\n",
       "SMS Sent                        2745\n",
       "Olark Chat Conversation          973\n",
       "Page Visited on Website          640\n",
       "Converted to Lead                428\n",
       "Email Bounced                    326\n",
       "Email Link Clicked               267\n",
       "Form Submitted on Website        116\n",
       "NaN                              103\n",
       "Unreachable                       93\n",
       "Unsubscribed                      61\n",
       "Had a Phone Conversation          30\n",
       "Approached upfront                 9\n",
       "View in browser link Clicked       6\n",
       "Email Received                     2\n",
       "Email Marked Spam                  2\n",
       "Visited Booth in Tradeshow         1\n",
       "Resubscribed to emails             1\n",
       "Name: Last Activity, dtype: int64"
      ]
     },
     "execution_count": 107,
     "metadata": {},
     "output_type": "execute_result"
    }
   ],
   "source": [
    "# Last Activity:\n",
    "\n",
    "df['Last Activity'].value_counts(dropna=False)"
   ]
  },
  {
   "cell_type": "code",
   "execution_count": null,
   "id": "2a616fdc",
   "metadata": {},
   "outputs": [],
   "source": []
  },
  {
   "cell_type": "code",
   "execution_count": 108,
   "id": "3d4a39e3",
   "metadata": {},
   "outputs": [],
   "source": [
    "## replacing Nan Values and combining low frequency values"
   ]
  },
  {
   "cell_type": "code",
   "execution_count": 109,
   "id": "e74cc193",
   "metadata": {},
   "outputs": [
    {
     "data": {
      "text/plain": [
       "Email Opened                 3437\n",
       "SMS Sent                     2745\n",
       "Olark Chat Conversation       973\n",
       "Page Visited on Website       640\n",
       "Converted to Lead             428\n",
       "Email Bounced                 326\n",
       "Others                        308\n",
       "Email Link Clicked            267\n",
       "Form Submitted on Website     116\n",
       "Name: Last Activity, dtype: int64"
      ]
     },
     "execution_count": 109,
     "metadata": {},
     "output_type": "execute_result"
    }
   ],
   "source": [
    "df['Last Activity'].value_counts(dropna=False)"
   ]
  },
  {
   "cell_type": "code",
   "execution_count": null,
   "id": "fda5edc5",
   "metadata": {},
   "outputs": [],
   "source": []
  },
  {
   "cell_type": "code",
   "execution_count": 110,
   "id": "caa90a28",
   "metadata": {},
   "outputs": [],
   "source": [
    "#Check the Null Values in All Columns:"
   ]
  },
  {
   "cell_type": "code",
   "execution_count": 111,
   "id": "11f726b4",
   "metadata": {},
   "outputs": [
    {
     "data": {
      "text/plain": [
       "Prospect ID                                       0.00\n",
       "Lead Number                                       0.00\n",
       "Lead Origin                                       0.00\n",
       "Lead Source                                       0.39\n",
       "Do Not Email                                      0.00\n",
       "Do Not Call                                       0.00\n",
       "Converted                                         0.00\n",
       "TotalVisits                                       1.48\n",
       "Total Time Spent on Website                       0.00\n",
       "Page Views Per Visit                              1.48\n",
       "Last Activity                                     0.00\n",
       "Country                                           0.00\n",
       "Specialization                                    0.00\n",
       "How did you hear about X Education               23.89\n",
       "What is your current occupation                   0.00\n",
       "What matters most to you in choosing a course     0.00\n",
       "Search                                            0.00\n",
       "Magazine                                          0.00\n",
       "Newspaper Article                                 0.00\n",
       "X Education Forums                                0.00\n",
       "Newspaper                                         0.00\n",
       "Digital Advertisement                             0.00\n",
       "Through Recommendations                           0.00\n",
       "Receive More Updates About Our Courses            0.00\n",
       "Tags                                              0.00\n",
       "Update me on Supply Chain Content                 0.00\n",
       "Get updates on DM Content                         0.00\n",
       "Lead Profile                                     29.32\n",
       "City                                              0.00\n",
       "I agree to pay the amount through cheque          0.00\n",
       "A free copy of Mastering The Interview            0.00\n",
       "Last Notable Activity                             0.00\n",
       "dtype: float64"
      ]
     },
     "execution_count": 111,
     "metadata": {},
     "output_type": "execute_result"
    }
   ],
   "source": [
    "round(100*(df.isnull().sum()/len(df.index)), 2)"
   ]
  },
  {
   "cell_type": "code",
   "execution_count": 112,
   "id": "daed584b",
   "metadata": {},
   "outputs": [],
   "source": [
    "## Drop all rows which have Nan Values. And the number of Dropped rows is less than 2%, it will not affect the model\n",
    "df = df.dropna()"
   ]
  },
  {
   "cell_type": "code",
   "execution_count": 113,
   "id": "3741e5ec",
   "metadata": {},
   "outputs": [],
   "source": [
    "##Checking percentage of Null Values in All Columns"
   ]
  },
  {
   "cell_type": "code",
   "execution_count": 114,
   "id": "c8e150d4",
   "metadata": {},
   "outputs": [
    {
     "data": {
      "text/plain": [
       "Prospect ID                                      0.0\n",
       "Lead Number                                      0.0\n",
       "Lead Origin                                      0.0\n",
       "Lead Source                                      0.0\n",
       "Do Not Email                                     0.0\n",
       "Do Not Call                                      0.0\n",
       "Converted                                        0.0\n",
       "TotalVisits                                      0.0\n",
       "Total Time Spent on Website                      0.0\n",
       "Page Views Per Visit                             0.0\n",
       "Last Activity                                    0.0\n",
       "Country                                          0.0\n",
       "Specialization                                   0.0\n",
       "How did you hear about X Education               0.0\n",
       "What is your current occupation                  0.0\n",
       "What matters most to you in choosing a course    0.0\n",
       "Search                                           0.0\n",
       "Magazine                                         0.0\n",
       "Newspaper Article                                0.0\n",
       "X Education Forums                               0.0\n",
       "Newspaper                                        0.0\n",
       "Digital Advertisement                            0.0\n",
       "Through Recommendations                          0.0\n",
       "Receive More Updates About Our Courses           0.0\n",
       "Tags                                             0.0\n",
       "Update me on Supply Chain Content                0.0\n",
       "Get updates on DM Content                        0.0\n",
       "Lead Profile                                     0.0\n",
       "City                                             0.0\n",
       "I agree to pay the amount through cheque         0.0\n",
       "A free copy of Mastering The Interview           0.0\n",
       "Last Notable Activity                            0.0\n",
       "dtype: float64"
      ]
     },
     "execution_count": 114,
     "metadata": {},
     "output_type": "execute_result"
    }
   ],
   "source": [
    "round(100*(df.isnull().sum()/len(df.index)), 2)"
   ]
  },
  {
   "cell_type": "code",
   "execution_count": null,
   "id": "fdb92f14",
   "metadata": {},
   "outputs": [],
   "source": []
  },
  {
   "cell_type": "code",
   "execution_count": 115,
   "id": "af138cd5",
   "metadata": {},
   "outputs": [
    {
     "data": {
      "text/plain": [
       "Landing Page Submission    3624\n",
       "API                        2140\n",
       "Lead Add Form               581\n",
       "Lead Import                  27\n",
       "Name: Lead Origin, dtype: int64"
      ]
     },
     "execution_count": 115,
     "metadata": {},
     "output_type": "execute_result"
    }
   ],
   "source": [
    "## Lead Origin\n",
    "df['Lead Origin'].value_counts(dropna=False)"
   ]
  },
  {
   "cell_type": "code",
   "execution_count": null,
   "id": "eb2ba579",
   "metadata": {},
   "outputs": [],
   "source": []
  },
  {
   "cell_type": "code",
   "execution_count": 116,
   "id": "5e032cdf",
   "metadata": {},
   "outputs": [],
   "source": [
    "#visualizing count of Variable based on Converted value"
   ]
  },
  {
   "cell_type": "code",
   "execution_count": 117,
   "id": "8265fa91",
   "metadata": {},
   "outputs": [
    {
     "data": {
      "image/png": "[encoded data removed]",
      "text/plain": [
       "<Figure size 576x360 with 1 Axes>"
      ]
     },
     "metadata": {},
     "output_type": "display_data"
    }
   ],
   "source": [
    "plt.figure(figsize=(8,5))\n",
    "s1=sns.countplot(df['Lead Origin'], hue=df.Converted)\n",
    "s1.set_xticklabels(s1.get_xticklabels(),rotation=90)\n",
    "plt.show()"
   ]
  },
  {
   "cell_type": "code",
   "execution_count": null,
   "id": "65aaf27f",
   "metadata": {},
   "outputs": [],
   "source": [
    "#comments\n",
    "# API and Landing Page Submission bring higher number of leads as well as conversion.\n",
    "# Lead Add Form has a very high conversion rate but count of leads are not very high.\n",
    "# In order to improve overall lead conversion rate, we have to improve lead converion of API and Landing Page Submission origin and generate more leads from Lead Add Form."
   ]
  },
  {
   "cell_type": "code",
   "execution_count": null,
   "id": "61802cf0",
   "metadata": {},
   "outputs": [],
   "source": []
  },
  {
   "cell_type": "code",
   "execution_count": 118,
   "id": "73a37b0c",
   "metadata": {},
   "outputs": [],
   "source": [
    "## Do Not Email & Do Not Call\n",
    "## visualizing count of Variable based on Converted value"
   ]
  },
  {
   "cell_type": "code",
   "execution_count": 119,
   "id": "4cc7b3aa",
   "metadata": {},
   "outputs": [
    {
     "data": {
      "image/png": "[encoded data removed]",
      "text/plain": [
       "<Figure size 1080x360 with 2 Axes>"
      ]
     },
     "metadata": {},
     "output_type": "display_data"
    }
   ],
   "source": [
    "plt.figure(figsize=(15,5))\n",
    "\n",
    "ax1=plt.subplot(1, 2, 1)\n",
    "ax1=sns.countplot(df['Do Not Call'], hue=df.Converted)\n",
    "ax1.set_xticklabels(ax1.get_xticklabels(),rotation=90)\n",
    "\n",
    "ax2=plt.subplot(1, 2, 2)\n",
    "ax2=sns.countplot(df['Do Not Email'], hue=df.Converted)\n",
    "ax2.set_xticklabels(ax2.get_xticklabels(),rotation=90)\n",
    "plt.show()"
   ]
  },
  {
   "cell_type": "code",
   "execution_count": null,
   "id": "c2b0067c",
   "metadata": {},
   "outputs": [],
   "source": []
  },
  {
   "cell_type": "code",
   "execution_count": 120,
   "id": "aab1a0d9",
   "metadata": {},
   "outputs": [
    {
     "data": {
      "text/plain": [
       "No     6370\n",
       "Yes       2\n",
       "Name: Do Not Call, dtype: int64"
      ]
     },
     "execution_count": 120,
     "metadata": {},
     "output_type": "execute_result"
    }
   ],
   "source": [
    "#checking value counts for Do Not Call\n",
    "df['Do Not Call'].value_counts(dropna=False)"
   ]
  },
  {
   "cell_type": "code",
   "execution_count": 121,
   "id": "d240ef23",
   "metadata": {},
   "outputs": [
    {
     "data": {
      "text/plain": [
       "No     5938\n",
       "Yes     434\n",
       "Name: Do Not Email, dtype: int64"
      ]
     },
     "execution_count": 121,
     "metadata": {},
     "output_type": "execute_result"
    }
   ],
   "source": [
    "#checking value counts for Do Not Email\n",
    "df['Do Not Email'].value_counts(dropna=False)"
   ]
  },
  {
   "cell_type": "code",
   "execution_count": 122,
   "id": "851ceb3b",
   "metadata": {},
   "outputs": [],
   "source": [
    " # Append and Do Not Call Column to the list of Columns to be Dropped since > 90% is of only one Value"
   ]
  },
  {
   "cell_type": "code",
   "execution_count": 123,
   "id": "cbee8239",
   "metadata": {},
   "outputs": [
    {
     "data": {
      "text/plain": [
       "['Country', 'What matters most to you in choosing a course', 'Do Not Call']"
      ]
     },
     "execution_count": 123,
     "metadata": {},
     "output_type": "execute_result"
    }
   ],
   "source": [
    "cols_to_drop.append('Do Not Call')\n",
    "cols_to_drop"
   ]
  },
  {
   "cell_type": "code",
   "execution_count": null,
   "id": "2bdca86e",
   "metadata": {},
   "outputs": [],
   "source": []
  },
  {
   "cell_type": "code",
   "execution_count": 124,
   "id": "46f77d28",
   "metadata": {},
   "outputs": [],
   "source": [
    "##### Imblanced variables that can be dropped"
   ]
  },
  {
   "cell_type": "code",
   "execution_count": 125,
   "id": "63aa7259",
   "metadata": {},
   "outputs": [
    {
     "data": {
      "text/plain": [
       "No     6362\n",
       "Yes      10\n",
       "Name: Search, dtype: int64"
      ]
     },
     "execution_count": 125,
     "metadata": {},
     "output_type": "execute_result"
    }
   ],
   "source": [
    "df.Search.value_counts(dropna=False)"
   ]
  },
  {
   "cell_type": "code",
   "execution_count": 126,
   "id": "ff3beb38",
   "metadata": {},
   "outputs": [
    {
     "data": {
      "text/plain": [
       "No    6372\n",
       "Name: Magazine, dtype: int64"
      ]
     },
     "execution_count": 126,
     "metadata": {},
     "output_type": "execute_result"
    }
   ],
   "source": [
    "df.Magazine.value_counts(dropna=False)"
   ]
  },
  {
   "cell_type": "code",
   "execution_count": 127,
   "id": "68891fc0",
   "metadata": {},
   "outputs": [
    {
     "data": {
      "text/plain": [
       "No     6371\n",
       "Yes       1\n",
       "Name: Newspaper Article, dtype: int64"
      ]
     },
     "execution_count": 127,
     "metadata": {},
     "output_type": "execute_result"
    }
   ],
   "source": [
    "df['Newspaper Article'].value_counts(dropna=False)"
   ]
  },
  {
   "cell_type": "code",
   "execution_count": 128,
   "id": "aa710ea4",
   "metadata": {},
   "outputs": [
    {
     "data": {
      "text/plain": [
       "No    6372\n",
       "Name: X Education Forums, dtype: int64"
      ]
     },
     "execution_count": 128,
     "metadata": {},
     "output_type": "execute_result"
    }
   ],
   "source": [
    "df['X Education Forums'].value_counts(dropna=False)"
   ]
  },
  {
   "cell_type": "code",
   "execution_count": 129,
   "id": "b7549ddb",
   "metadata": {},
   "outputs": [
    {
     "data": {
      "text/plain": [
       "No     6371\n",
       "Yes       1\n",
       "Name: Newspaper, dtype: int64"
      ]
     },
     "execution_count": 129,
     "metadata": {},
     "output_type": "execute_result"
    }
   ],
   "source": [
    "df['Newspaper'].value_counts(dropna=False)"
   ]
  },
  {
   "cell_type": "code",
   "execution_count": 130,
   "id": "079bad85",
   "metadata": {},
   "outputs": [
    {
     "data": {
      "text/plain": [
       "No     6369\n",
       "Yes       3\n",
       "Name: Digital Advertisement, dtype: int64"
      ]
     },
     "execution_count": 130,
     "metadata": {},
     "output_type": "execute_result"
    }
   ],
   "source": [
    "df['Digital Advertisement'].value_counts(dropna=False)"
   ]
  },
  {
   "cell_type": "code",
   "execution_count": 131,
   "id": "b7e36cf6",
   "metadata": {},
   "outputs": [
    {
     "data": {
      "text/plain": [
       "No     6366\n",
       "Yes       6\n",
       "Name: Through Recommendations, dtype: int64"
      ]
     },
     "execution_count": 131,
     "metadata": {},
     "output_type": "execute_result"
    }
   ],
   "source": [
    "df['Through Recommendations'].value_counts(dropna=False)"
   ]
  },
  {
   "cell_type": "code",
   "execution_count": 132,
   "id": "f5aae64d",
   "metadata": {},
   "outputs": [
    {
     "data": {
      "text/plain": [
       "No    6372\n",
       "Name: Receive More Updates About Our Courses, dtype: int64"
      ]
     },
     "execution_count": 132,
     "metadata": {},
     "output_type": "execute_result"
    }
   ],
   "source": [
    "df['Receive More Updates About Our Courses'].value_counts(dropna=False)"
   ]
  },
  {
   "cell_type": "code",
   "execution_count": 133,
   "id": "30952d43",
   "metadata": {},
   "outputs": [
    {
     "data": {
      "text/plain": [
       "No    6372\n",
       "Name: Update me on Supply Chain Content, dtype: int64"
      ]
     },
     "execution_count": 133,
     "metadata": {},
     "output_type": "execute_result"
    }
   ],
   "source": [
    "df['Update me on Supply Chain Content'].value_counts(dropna=False)"
   ]
  },
  {
   "cell_type": "code",
   "execution_count": 134,
   "id": "89592d98",
   "metadata": {},
   "outputs": [
    {
     "data": {
      "text/plain": [
       "No    6372\n",
       "Name: Get updates on DM Content, dtype: int64"
      ]
     },
     "execution_count": 134,
     "metadata": {},
     "output_type": "execute_result"
    }
   ],
   "source": [
    "df['Get updates on DM Content'].value_counts(dropna=False)"
   ]
  },
  {
   "cell_type": "code",
   "execution_count": 135,
   "id": "8ea8db75",
   "metadata": {},
   "outputs": [
    {
     "data": {
      "text/plain": [
       "No    6372\n",
       "Name: I agree to pay the amount through cheque, dtype: int64"
      ]
     },
     "execution_count": 135,
     "metadata": {},
     "output_type": "execute_result"
    }
   ],
   "source": [
    "df['I agree to pay the amount through cheque'].value_counts(dropna=False)"
   ]
  },
  {
   "cell_type": "code",
   "execution_count": 136,
   "id": "ccfe07b9",
   "metadata": {},
   "outputs": [
    {
     "data": {
      "text/plain": [
       "No     4201\n",
       "Yes    2171\n",
       "Name: A free copy of Mastering The Interview, dtype: int64"
      ]
     },
     "execution_count": 136,
     "metadata": {},
     "output_type": "execute_result"
    }
   ],
   "source": [
    "df['A free copy of Mastering The Interview'].value_counts(dropna=False)"
   ]
  },
  {
   "cell_type": "code",
   "execution_count": null,
   "id": "d6fa2d7f",
   "metadata": {},
   "outputs": [],
   "source": []
  },
  {
   "cell_type": "code",
   "execution_count": 137,
   "id": "b333db9d",
   "metadata": {},
   "outputs": [
    {
     "data": {
      "text/plain": [
       "Email Opened                    2038\n",
       "Modified                        1947\n",
       "SMS Sent                        1869\n",
       "Page Visited on Website          212\n",
       "Email Link Clicked               110\n",
       "Olark Chat Conversation           76\n",
       "Email Bounced                     49\n",
       "Unsubscribed                      31\n",
       "Unreachable                       22\n",
       "Had a Phone Conversation          13\n",
       "Email Marked Spam                  2\n",
       "Approached upfront                 1\n",
       "View in browser link Clicked       1\n",
       "Email Received                     1\n",
       "Name: Last Notable Activity, dtype: int64"
      ]
     },
     "execution_count": 137,
     "metadata": {},
     "output_type": "execute_result"
    }
   ],
   "source": [
    "#checking value counts of last Notable Activity\n",
    "df['Last Notable Activity'].value_counts()"
   ]
  },
  {
   "cell_type": "code",
   "execution_count": null,
   "id": "075bd61b",
   "metadata": {},
   "outputs": [],
   "source": []
  },
  {
   "cell_type": "code",
   "execution_count": null,
   "id": "4653aba7",
   "metadata": {},
   "outputs": [],
   "source": [
    "## visualizing count of Variable based on Converted value"
   ]
  },
  {
   "cell_type": "code",
   "execution_count": 138,
   "id": "fc505a24",
   "metadata": {},
   "outputs": [
    {
     "data": {
      "image/png": "[encoded data removed]",
      "text/plain": [
       "<Figure size 1008x360 with 1 Axes>"
      ]
     },
     "metadata": {},
     "output_type": "display_data"
    }
   ],
   "source": [
    "plt.figure(figsize = (14,5))\n",
    "ax1=sns.countplot(x = \"Last Notable Activity\", hue = \"Converted\", data = df)\n",
    "ax1.set_xticklabels(ax1.get_xticklabels(),rotation=90)\n",
    "plt.show()"
   ]
  },
  {
   "cell_type": "code",
   "execution_count": 139,
   "id": "aa08866a",
   "metadata": {},
   "outputs": [
    {
     "data": {
      "text/plain": [
       "['Country', 'What matters most to you in choosing a course', 'Do Not Call']"
      ]
     },
     "execution_count": 139,
     "metadata": {},
     "output_type": "execute_result"
    }
   ],
   "source": [
    "### list of columns to be dropped\n",
    "cols_to_drop"
   ]
  },
  {
   "cell_type": "code",
   "execution_count": null,
   "id": "4dd7bb61",
   "metadata": {},
   "outputs": [],
   "source": []
  },
  {
   "cell_type": "code",
   "execution_count": 140,
   "id": "f515ddcb",
   "metadata": {},
   "outputs": [
    {
     "name": "stdout",
     "output_type": "stream",
     "text": [
      "<class 'pandas.core.frame.DataFrame'>\n",
      "Int64Index: 6372 entries, 0 to 9239\n",
      "Data columns (total 29 columns):\n",
      " #   Column                                    Non-Null Count  Dtype  \n",
      "---  ------                                    --------------  -----  \n",
      " 0   Prospect ID                               6372 non-null   object \n",
      " 1   Lead Number                               6372 non-null   int64  \n",
      " 2   Lead Origin                               6372 non-null   object \n",
      " 3   Lead Source                               6372 non-null   object \n",
      " 4   Do Not Email                              6372 non-null   object \n",
      " 5   Converted                                 6372 non-null   int64  \n",
      " 6   TotalVisits                               6372 non-null   float64\n",
      " 7   Total Time Spent on Website               6372 non-null   int64  \n",
      " 8   Page Views Per Visit                      6372 non-null   float64\n",
      " 9   Last Activity                             6372 non-null   object \n",
      " 10  Specialization                            6372 non-null   object \n",
      " 11  How did you hear about X Education        6372 non-null   object \n",
      " 12  What is your current occupation           6372 non-null   object \n",
      " 13  Search                                    6372 non-null   object \n",
      " 14  Magazine                                  6372 non-null   object \n",
      " 15  Newspaper Article                         6372 non-null   object \n",
      " 16  X Education Forums                        6372 non-null   object \n",
      " 17  Newspaper                                 6372 non-null   object \n",
      " 18  Digital Advertisement                     6372 non-null   object \n",
      " 19  Through Recommendations                   6372 non-null   object \n",
      " 20  Receive More Updates About Our Courses    6372 non-null   object \n",
      " 21  Tags                                      6372 non-null   object \n",
      " 22  Update me on Supply Chain Content         6372 non-null   object \n",
      " 23  Get updates on DM Content                 6372 non-null   object \n",
      " 24  Lead Profile                              6372 non-null   object \n",
      " 25  City                                      6372 non-null   object \n",
      " 26  I agree to pay the amount through cheque  6372 non-null   object \n",
      " 27  A free copy of Mastering The Interview    6372 non-null   object \n",
      " 28  Last Notable Activity                     6372 non-null   object \n",
      "dtypes: float64(2), int64(3), object(24)\n",
      "memory usage: 1.5+ MB\n"
     ]
    }
   ],
   "source": [
    "#dropping columns\n",
    "df = df.drop(cols_to_drop,1)\n",
    "df.info()"
   ]
  },
  {
   "cell_type": "code",
   "execution_count": null,
   "id": "3900b209",
   "metadata": {},
   "outputs": [],
   "source": []
  },
  {
   "cell_type": "code",
   "execution_count": 141,
   "id": "9d9230cb",
   "metadata": {},
   "outputs": [],
   "source": [
    "### Numerical Attributes Analysis"
   ]
  },
  {
   "cell_type": "code",
   "execution_count": null,
   "id": "73999cdb",
   "metadata": {},
   "outputs": [],
   "source": [
    "#Check the % of Data that has Converted Values = 1:"
   ]
  },
  {
   "cell_type": "code",
   "execution_count": 142,
   "id": "d0293852",
   "metadata": {},
   "outputs": [
    {
     "data": {
      "text/plain": [
       "48.10106716886378"
      ]
     },
     "execution_count": 142,
     "metadata": {},
     "output_type": "execute_result"
    }
   ],
   "source": [
    "Converted = (sum(df['Converted'])/len(df['Converted'].index))*100\n",
    "Converted"
   ]
  },
  {
   "cell_type": "code",
   "execution_count": 143,
   "id": "f07f9144",
   "metadata": {},
   "outputs": [
    {
     "data": {
      "text/plain": [
       "<Figure size 720x576 with 0 Axes>"
      ]
     },
     "execution_count": 143,
     "metadata": {},
     "output_type": "execute_result"
    },
    {
     "data": {
      "text/plain": [
       "<Figure size 720x576 with 0 Axes>"
      ]
     },
     "metadata": {},
     "output_type": "display_data"
    }
   ],
   "source": [
    "#Checking correlations of numeric values\n",
    "# figure size\n",
    "plt.figure(figsize=(10,8))"
   ]
  },
  {
   "cell_type": "code",
   "execution_count": null,
   "id": "aebb41d5",
   "metadata": {},
   "outputs": [],
   "source": []
  },
  {
   "cell_type": "code",
   "execution_count": null,
   "id": "866d4c88",
   "metadata": {},
   "outputs": [],
   "source": [
    "#### heatmap"
   ]
  },
  {
   "cell_type": "code",
   "execution_count": 144,
   "id": "b13e8fda",
   "metadata": {},
   "outputs": [
    {
     "data": {
      "image/png": "[encoded data removed]",
      "text/plain": [
       "<Figure size 432x288 with 2 Axes>"
      ]
     },
     "metadata": {},
     "output_type": "display_data"
    }
   ],
   "source": [
    "sns.heatmap(df.corr(), cmap=\"YlGnBu\", annot=True)\n",
    "plt.show()"
   ]
  },
  {
   "cell_type": "code",
   "execution_count": null,
   "id": "d8a076f7",
   "metadata": {},
   "outputs": [],
   "source": []
  },
  {
   "cell_type": "code",
   "execution_count": null,
   "id": "e694da69",
   "metadata": {},
   "outputs": [],
   "source": [
    "# Total Visits & visualizing spread of variable"
   ]
  },
  {
   "cell_type": "code",
   "execution_count": 145,
   "id": "d5bcfd2f",
   "metadata": {},
   "outputs": [
    {
     "data": {
      "image/png": "[encoded data removed]",
      "text/plain": [
       "<Figure size 432x288 with 1 Axes>"
      ]
     },
     "metadata": {},
     "output_type": "display_data"
    }
   ],
   "source": [
    "plt.figure(figsize=(6,4))\n",
    "sns.boxplot(y=df['TotalVisits'])\n",
    "plt.show()"
   ]
  },
  {
   "cell_type": "code",
   "execution_count": 146,
   "id": "2fcff5ee",
   "metadata": {},
   "outputs": [],
   "source": [
    "# In the above plot we can see presence of outliers here."
   ]
  },
  {
   "cell_type": "code",
   "execution_count": null,
   "id": "a8080b71",
   "metadata": {},
   "outputs": [],
   "source": []
  },
  {
   "cell_type": "code",
   "execution_count": null,
   "id": "2f0089d6",
   "metadata": {},
   "outputs": [],
   "source": [
    "### checking percentile values for \"Total Visits\""
   ]
  },
  {
   "cell_type": "code",
   "execution_count": 147,
   "id": "b63d4978",
   "metadata": {},
   "outputs": [
    {
     "data": {
      "text/plain": [
       "count    6372.000000\n",
       "mean        3.606717\n",
       "std         4.852274\n",
       "min         0.000000\n",
       "5%          0.000000\n",
       "25%         1.000000\n",
       "50%         3.000000\n",
       "75%         5.000000\n",
       "90%         8.000000\n",
       "95%        10.000000\n",
       "99%        17.290000\n",
       "max       251.000000\n",
       "Name: TotalVisits, dtype: float64"
      ]
     },
     "execution_count": 147,
     "metadata": {},
     "output_type": "execute_result"
    }
   ],
   "source": [
    "df['TotalVisits'].describe(percentiles=[0.05,.25, .5, .75, .90, .95, .99])"
   ]
  },
  {
   "cell_type": "code",
   "execution_count": null,
   "id": "5c6051f3",
   "metadata": {},
   "outputs": [],
   "source": []
  },
  {
   "cell_type": "code",
   "execution_count": 148,
   "id": "69a01a1e",
   "metadata": {},
   "outputs": [],
   "source": [
    "### Outlier Treatment: Remove top & bottom 1% of the Column Outlier values"
   ]
  },
  {
   "cell_type": "code",
   "execution_count": 149,
   "id": "b4890147",
   "metadata": {},
   "outputs": [
    {
     "data": {
      "image/png": "[encoded data removed]",
      "text/plain": [
       "<Figure size 432x288 with 1 Axes>"
      ]
     },
     "metadata": {},
     "output_type": "display_data"
    }
   ],
   "source": [
    "Q3 = df.TotalVisits.quantile(0.99)\n",
    "df = df[(df.TotalVisits <= Q3)]\n",
    "Q1 = df.TotalVisits.quantile(0.01)\n",
    "df = df[(df.TotalVisits >= Q1)]\n",
    "sns.boxplot(y=df['TotalVisits'])\n",
    "plt.show()"
   ]
  },
  {
   "cell_type": "code",
   "execution_count": 151,
   "id": "e1e65d39",
   "metadata": {},
   "outputs": [
    {
     "data": {
      "text/plain": [
       "(6308, 29)"
      ]
     },
     "execution_count": 151,
     "metadata": {},
     "output_type": "execute_result"
    }
   ],
   "source": [
    "df.shape"
   ]
  },
  {
   "cell_type": "code",
   "execution_count": null,
   "id": "bb39c4a9",
   "metadata": {},
   "outputs": [],
   "source": []
  },
  {
   "cell_type": "code",
   "execution_count": 152,
   "id": "7e4e3217",
   "metadata": {},
   "outputs": [],
   "source": [
    "#  Checking for the Next Numerical Column:\n",
    "#  #checking percentiles for \"Total Time Spent on Website\"    "
   ]
  },
  {
   "cell_type": "code",
   "execution_count": 153,
   "id": "e9e9bce9",
   "metadata": {},
   "outputs": [
    {
     "data": {
      "text/plain": [
       "count    6308.000000\n",
       "mean      533.747939\n",
       "std       565.050050\n",
       "min         0.000000\n",
       "5%          0.000000\n",
       "25%        32.000000\n",
       "50%       285.500000\n",
       "75%      1021.000000\n",
       "90%      1425.000000\n",
       "95%      1591.650000\n",
       "99%      1848.860000\n",
       "max      2272.000000\n",
       "Name: Total Time Spent on Website, dtype: float64"
      ]
     },
     "execution_count": 153,
     "metadata": {},
     "output_type": "execute_result"
    }
   ],
   "source": [
    "df['Total Time Spent on Website'].describe(percentiles=[0.05,.25, .5, .75, .90, .95, .99])"
   ]
  },
  {
   "cell_type": "code",
   "execution_count": null,
   "id": "8ffbd502",
   "metadata": {},
   "outputs": [],
   "source": []
  },
  {
   "cell_type": "code",
   "execution_count": 154,
   "id": "873f6318",
   "metadata": {},
   "outputs": [
    {
     "data": {
      "image/png": "[encoded data removed]",
      "text/plain": [
       "<Figure size 432x288 with 1 Axes>"
      ]
     },
     "metadata": {},
     "output_type": "display_data"
    }
   ],
   "source": [
    "###  visualizing spread of numeric variable\n",
    "\n",
    "plt.figure(figsize=(6,4))\n",
    "sns.boxplot(y=df['Total Time Spent on Website'])\n",
    "plt.show()"
   ]
  },
  {
   "cell_type": "code",
   "execution_count": 155,
   "id": "6969f63c",
   "metadata": {},
   "outputs": [],
   "source": [
    "# no major Outliers for the above variable we don't do any Outlier Treatment for this above Column"
   ]
  },
  {
   "cell_type": "code",
   "execution_count": null,
   "id": "c0ebf8ef",
   "metadata": {},
   "outputs": [],
   "source": []
  },
  {
   "cell_type": "code",
   "execution_count": 156,
   "id": "0939365a",
   "metadata": {},
   "outputs": [],
   "source": [
    "## Checking for Page Views Per Visit"
   ]
  },
  {
   "cell_type": "code",
   "execution_count": 157,
   "id": "72ed2965",
   "metadata": {},
   "outputs": [
    {
     "data": {
      "text/plain": [
       "count    6308.000000\n",
       "mean        2.452941\n",
       "std         2.045289\n",
       "min         0.000000\n",
       "25%         1.000000\n",
       "50%         2.000000\n",
       "75%         3.500000\n",
       "max        16.000000\n",
       "Name: Page Views Per Visit, dtype: float64"
      ]
     },
     "execution_count": 157,
     "metadata": {},
     "output_type": "execute_result"
    }
   ],
   "source": [
    "df['Page Views Per Visit'].describe()"
   ]
  },
  {
   "cell_type": "code",
   "execution_count": null,
   "id": "ad6f3eea",
   "metadata": {},
   "outputs": [],
   "source": []
  },
  {
   "cell_type": "code",
   "execution_count": 158,
   "id": "ebb3e9bf",
   "metadata": {},
   "outputs": [
    {
     "data": {
      "image/png": "[encoded data removed]",
      "text/plain": [
       "<Figure size 432x288 with 1 Axes>"
      ]
     },
     "metadata": {},
     "output_type": "display_data"
    }
   ],
   "source": [
    "### visualizing spread of numeric variable\n",
    "\n",
    "plt.figure(figsize=(6,4))\n",
    "sns.boxplot(y=df['Page Views Per Visit'])\n",
    "plt.show()"
   ]
  },
  {
   "cell_type": "code",
   "execution_count": null,
   "id": "5959ffe6",
   "metadata": {},
   "outputs": [],
   "source": []
  },
  {
   "cell_type": "code",
   "execution_count": 159,
   "id": "5703b188",
   "metadata": {},
   "outputs": [
    {
     "data": {
      "image/png": "[encoded data removed]",
      "text/plain": [
       "<Figure size 432x288 with 1 Axes>"
      ]
     },
     "metadata": {},
     "output_type": "display_data"
    }
   ],
   "source": [
    "#Outlier Treatment: Remove top & bottom 1% \n",
    "\n",
    "Q3 = df['Page Views Per Visit'].quantile(0.99)\n",
    "df = df[df['Page Views Per Visit'] <= Q3]\n",
    "Q1 = df['Page Views Per Visit'].quantile(0.01)\n",
    "df = df[df['Page Views Per Visit'] >= Q1]\n",
    "sns.boxplot(y=df['Page Views Per Visit'])\n",
    "plt.show()"
   ]
  },
  {
   "cell_type": "code",
   "execution_count": 160,
   "id": "c8bbe58d",
   "metadata": {},
   "outputs": [
    {
     "data": {
      "text/plain": [
       "(6263, 29)"
      ]
     },
     "execution_count": 160,
     "metadata": {},
     "output_type": "execute_result"
    }
   ],
   "source": [
    "df.shape"
   ]
  },
  {
   "cell_type": "code",
   "execution_count": null,
   "id": "34305cb7",
   "metadata": {},
   "outputs": [],
   "source": []
  },
  {
   "cell_type": "code",
   "execution_count": 161,
   "id": "7392f66f",
   "metadata": {},
   "outputs": [
    {
     "data": {
      "image/png": "[encoded data removed]",
      "text/plain": [
       "<Figure size 432x288 with 1 Axes>"
      ]
     },
     "metadata": {},
     "output_type": "display_data"
    }
   ],
   "source": [
    "###  checking Spread of \"Total Visits\" vs Converted variable\n",
    "sns.boxplot(y = 'TotalVisits', x = 'Converted', data = df)\n",
    "plt.show()"
   ]
  },
  {
   "cell_type": "code",
   "execution_count": 162,
   "id": "e2b380d5",
   "metadata": {},
   "outputs": [],
   "source": [
    "##comments:\n",
    "# Median for converted and not converted leads are the close.\n",
    "# Nothng conclusive can be said on the basis of Total Visits"
   ]
  },
  {
   "cell_type": "code",
   "execution_count": null,
   "id": "4a83260e",
   "metadata": {},
   "outputs": [],
   "source": []
  },
  {
   "cell_type": "code",
   "execution_count": 164,
   "id": "1c143599",
   "metadata": {},
   "outputs": [
    {
     "data": {
      "image/png": "[encoded data removed]",
      "text/plain": [
       "<Figure size 432x288 with 1 Axes>"
      ]
     },
     "metadata": {},
     "output_type": "display_data"
    }
   ],
   "source": [
    "### checking Spread of \"Total Time Spent on Website\" vs Converted variable\n",
    "\n",
    "sns.boxplot(x=df.Converted, y=df['Total Time Spent on Website'])\n",
    "plt.show()"
   ]
  },
  {
   "cell_type": "code",
   "execution_count": 165,
   "id": "99aeb9a8",
   "metadata": {},
   "outputs": [],
   "source": [
    "# comments\n",
    "# Leads spending more time on the website are more likely to be converted.\n",
    "# Website should be made more engaging to make leads spend more time."
   ]
  },
  {
   "cell_type": "code",
   "execution_count": null,
   "id": "d150ca0d",
   "metadata": {},
   "outputs": [],
   "source": []
  },
  {
   "cell_type": "code",
   "execution_count": 166,
   "id": "527510b7",
   "metadata": {},
   "outputs": [
    {
     "data": {
      "image/png": "[encoded data removed]",
      "text/plain": [
       "<Figure size 432x288 with 1 Axes>"
      ]
     },
     "metadata": {},
     "output_type": "display_data"
    }
   ],
   "source": [
    "### checking Spread of \"Page Views Per Visit\" vs Converted variable\n",
    "\n",
    "sns.boxplot(x=df.Converted,y=df['Page Views Per Visit'])\n",
    "plt.show()"
   ]
  },
  {
   "cell_type": "code",
   "execution_count": 167,
   "id": "e151e209",
   "metadata": {},
   "outputs": [],
   "source": [
    "#comments\n",
    "# Median for converted and unconverted leads is the same.\n",
    "# Nothing can be said specifically for lead conversion from Page Views Per Visit"
   ]
  },
  {
   "cell_type": "code",
   "execution_count": null,
   "id": "9cf306fd",
   "metadata": {},
   "outputs": [],
   "source": []
  },
  {
   "cell_type": "code",
   "execution_count": 168,
   "id": "4eaba10d",
   "metadata": {},
   "outputs": [
    {
     "data": {
      "text/plain": [
       "Prospect ID                                 0.0\n",
       "Lead Number                                 0.0\n",
       "Lead Origin                                 0.0\n",
       "Lead Source                                 0.0\n",
       "Do Not Email                                0.0\n",
       "Converted                                   0.0\n",
       "TotalVisits                                 0.0\n",
       "Total Time Spent on Website                 0.0\n",
       "Page Views Per Visit                        0.0\n",
       "Last Activity                               0.0\n",
       "Specialization                              0.0\n",
       "How did you hear about X Education          0.0\n",
       "What is your current occupation             0.0\n",
       "Search                                      0.0\n",
       "Magazine                                    0.0\n",
       "Newspaper Article                           0.0\n",
       "X Education Forums                          0.0\n",
       "Newspaper                                   0.0\n",
       "Digital Advertisement                       0.0\n",
       "Through Recommendations                     0.0\n",
       "Receive More Updates About Our Courses      0.0\n",
       "Tags                                        0.0\n",
       "Update me on Supply Chain Content           0.0\n",
       "Get updates on DM Content                   0.0\n",
       "Lead Profile                                0.0\n",
       "City                                        0.0\n",
       "I agree to pay the amount through cheque    0.0\n",
       "A free copy of Mastering The Interview      0.0\n",
       "Last Notable Activity                       0.0\n",
       "dtype: float64"
      ]
     },
     "execution_count": 168,
     "metadata": {},
     "output_type": "execute_result"
    }
   ],
   "source": [
    "#checking missing values in leftover columns/\n",
    "round(100*(df.isnull().sum()/len(df.index)),2)"
   ]
  },
  {
   "cell_type": "code",
   "execution_count": 169,
   "id": "9a083f1e",
   "metadata": {},
   "outputs": [],
   "source": [
    "## There are no missing values in the columns to be analyzed further"
   ]
  },
  {
   "cell_type": "code",
   "execution_count": null,
   "id": "38db04a4",
   "metadata": {},
   "outputs": [],
   "source": []
  },
  {
   "cell_type": "code",
   "execution_count": 170,
   "id": "de565074",
   "metadata": {},
   "outputs": [],
   "source": [
    "### Dummy Variable Creation"
   ]
  },
  {
   "cell_type": "code",
   "execution_count": 173,
   "id": "e78e2cde",
   "metadata": {},
   "outputs": [
    {
     "data": {
      "text/plain": [
       "Index(['Prospect ID', 'Lead Origin', 'Lead Source', 'Do Not Email',\n",
       "       'Last Activity', 'Specialization', 'How did you hear about X Education',\n",
       "       'What is your current occupation', 'Search', 'Magazine',\n",
       "       'Newspaper Article', 'X Education Forums', 'Newspaper',\n",
       "       'Digital Advertisement', 'Through Recommendations',\n",
       "       'Receive More Updates About Our Courses', 'Tags',\n",
       "       'Update me on Supply Chain Content', 'Get updates on DM Content',\n",
       "       'Lead Profile', 'City', 'I agree to pay the amount through cheque',\n",
       "       'A free copy of Mastering The Interview', 'Last Notable Activity'],\n",
       "      dtype='object')"
      ]
     },
     "execution_count": 173,
     "metadata": {},
     "output_type": "execute_result"
    }
   ],
   "source": [
    "#getting a list of categorical columns\n",
    "cat_cols= df.select_dtypes(include=['object']).columns\n",
    "cat_cols"
   ]
  },
  {
   "cell_type": "code",
   "execution_count": 174,
   "id": "5c721dd6",
   "metadata": {},
   "outputs": [],
   "source": [
    "# List of variables to map\n",
    "\n",
    "varlist =  ['A free copy of Mastering The Interview','Do Not Email']"
   ]
  },
  {
   "cell_type": "code",
   "execution_count": 175,
   "id": "fe799bc7",
   "metadata": {},
   "outputs": [],
   "source": [
    "# Defining the map function\n",
    "def binary_map(x):\n",
    "    return x.map({'Yes': 1, \"No\": 0})"
   ]
  },
  {
   "cell_type": "code",
   "execution_count": 176,
   "id": "dc5f3eac",
   "metadata": {},
   "outputs": [],
   "source": [
    "# Applying the function to the housing list\n",
    "df[varlist] = df[varlist].apply(binary_map)"
   ]
  },
  {
   "cell_type": "code",
   "execution_count": null,
   "id": "71290644",
   "metadata": {},
   "outputs": [],
   "source": []
  },
  {
   "cell_type": "code",
   "execution_count": 177,
   "id": "23dda918",
   "metadata": {},
   "outputs": [],
   "source": [
    "#dropping the original columns after dummy variable creation\n",
    "\n",
    "df.drop(cat_cols,1,inplace = True)"
   ]
  },
  {
   "cell_type": "code",
   "execution_count": 178,
   "id": "ed286a3d",
   "metadata": {},
   "outputs": [
    {
     "data": {
      "text/html": [
       "<div>\n",
       "<style scoped>\n",
       "    .dataframe tbody tr th:only-of-type {\n",
       "        vertical-align: middle;\n",
       "    }\n",
       "\n",
       "    .dataframe tbody tr th {\n",
       "        vertical-align: top;\n",
       "    }\n",
       "\n",
       "    .dataframe thead th {\n",
       "        text-align: right;\n",
       "    }\n",
       "</style>\n",
       "<table border=\"1\" class=\"dataframe\">\n",
       "  <thead>\n",
       "    <tr style=\"text-align: right;\">\n",
       "      <th></th>\n",
       "      <th>Lead Number</th>\n",
       "      <th>Converted</th>\n",
       "      <th>TotalVisits</th>\n",
       "      <th>Total Time Spent on Website</th>\n",
       "      <th>Page Views Per Visit</th>\n",
       "    </tr>\n",
       "  </thead>\n",
       "  <tbody>\n",
       "    <tr>\n",
       "      <th>0</th>\n",
       "      <td>660737</td>\n",
       "      <td>0</td>\n",
       "      <td>0.0</td>\n",
       "      <td>0</td>\n",
       "      <td>0.0</td>\n",
       "    </tr>\n",
       "    <tr>\n",
       "      <th>1</th>\n",
       "      <td>660728</td>\n",
       "      <td>0</td>\n",
       "      <td>5.0</td>\n",
       "      <td>674</td>\n",
       "      <td>2.5</td>\n",
       "    </tr>\n",
       "    <tr>\n",
       "      <th>2</th>\n",
       "      <td>660727</td>\n",
       "      <td>1</td>\n",
       "      <td>2.0</td>\n",
       "      <td>1532</td>\n",
       "      <td>2.0</td>\n",
       "    </tr>\n",
       "    <tr>\n",
       "      <th>3</th>\n",
       "      <td>660719</td>\n",
       "      <td>0</td>\n",
       "      <td>1.0</td>\n",
       "      <td>305</td>\n",
       "      <td>1.0</td>\n",
       "    </tr>\n",
       "    <tr>\n",
       "      <th>4</th>\n",
       "      <td>660681</td>\n",
       "      <td>1</td>\n",
       "      <td>2.0</td>\n",
       "      <td>1428</td>\n",
       "      <td>1.0</td>\n",
       "    </tr>\n",
       "  </tbody>\n",
       "</table>\n",
       "</div>"
      ],
      "text/plain": [
       "   Lead Number  Converted  TotalVisits  Total Time Spent on Website  \\\n",
       "0       660737          0          0.0                            0   \n",
       "1       660728          0          5.0                          674   \n",
       "2       660727          1          2.0                         1532   \n",
       "3       660719          0          1.0                          305   \n",
       "4       660681          1          2.0                         1428   \n",
       "\n",
       "   Page Views Per Visit  \n",
       "0                   0.0  \n",
       "1                   2.5  \n",
       "2                   2.0  \n",
       "3                   1.0  \n",
       "4                   1.0  "
      ]
     },
     "execution_count": 178,
     "metadata": {},
     "output_type": "execute_result"
    }
   ],
   "source": [
    "df.head()"
   ]
  },
  {
   "cell_type": "code",
   "execution_count": null,
   "id": "15807b0a",
   "metadata": {},
   "outputs": [],
   "source": []
  },
  {
   "cell_type": "code",
   "execution_count": 180,
   "id": "92f09231",
   "metadata": {},
   "outputs": [],
   "source": [
    "## Train-Test Split & Logistic Regression Model Building"
   ]
  },
  {
   "cell_type": "code",
   "execution_count": 181,
   "id": "b06b533d",
   "metadata": {},
   "outputs": [],
   "source": [
    "## # Putting response variable to y\n",
    "y = df['Converted']\n",
    "\n",
    "y.head()\n",
    "\n",
    "X=df.drop('Converted', axis=1)"
   ]
  },
  {
   "cell_type": "code",
   "execution_count": null,
   "id": "97fa3253",
   "metadata": {},
   "outputs": [],
   "source": []
  },
  {
   "cell_type": "code",
   "execution_count": 182,
   "id": "d8faddfd",
   "metadata": {},
   "outputs": [],
   "source": [
    "# Splitting the data into train and test\n",
    "X_train, X_test, y_train, y_test = train_test_split(X, y, train_size=0.7, test_size=0.3, random_state=100)"
   ]
  },
  {
   "cell_type": "code",
   "execution_count": 183,
   "id": "e2735224",
   "metadata": {},
   "outputs": [
    {
     "name": "stdout",
     "output_type": "stream",
     "text": [
      "<class 'pandas.core.frame.DataFrame'>\n",
      "Int64Index: 4384 entries, 3177 to 8369\n",
      "Data columns (total 4 columns):\n",
      " #   Column                       Non-Null Count  Dtype  \n",
      "---  ------                       --------------  -----  \n",
      " 0   Lead Number                  4384 non-null   int64  \n",
      " 1   TotalVisits                  4384 non-null   float64\n",
      " 2   Total Time Spent on Website  4384 non-null   int64  \n",
      " 3   Page Views Per Visit         4384 non-null   float64\n",
      "dtypes: float64(2), int64(2)\n",
      "memory usage: 171.2 KB\n"
     ]
    }
   ],
   "source": [
    "X_train.info()"
   ]
  },
  {
   "cell_type": "code",
   "execution_count": null,
   "id": "66ea76a6",
   "metadata": {},
   "outputs": [],
   "source": []
  },
  {
   "cell_type": "code",
   "execution_count": 184,
   "id": "269e0367",
   "metadata": {},
   "outputs": [],
   "source": [
    "## Scaling of Data\n",
    "#scaling numeric columns"
   ]
  },
  {
   "cell_type": "code",
   "execution_count": 185,
   "id": "37717274",
   "metadata": {},
   "outputs": [
    {
     "data": {
      "text/html": [
       "<div>\n",
       "<style scoped>\n",
       "    .dataframe tbody tr th:only-of-type {\n",
       "        vertical-align: middle;\n",
       "    }\n",
       "\n",
       "    .dataframe tbody tr th {\n",
       "        vertical-align: top;\n",
       "    }\n",
       "\n",
       "    .dataframe thead th {\n",
       "        text-align: right;\n",
       "    }\n",
       "</style>\n",
       "<table border=\"1\" class=\"dataframe\">\n",
       "  <thead>\n",
       "    <tr style=\"text-align: right;\">\n",
       "      <th></th>\n",
       "      <th>Lead Number</th>\n",
       "      <th>TotalVisits</th>\n",
       "      <th>Total Time Spent on Website</th>\n",
       "      <th>Page Views Per Visit</th>\n",
       "    </tr>\n",
       "  </thead>\n",
       "  <tbody>\n",
       "    <tr>\n",
       "      <th>3177</th>\n",
       "      <td>0.574151</td>\n",
       "      <td>0.234025</td>\n",
       "      <td>0.691922</td>\n",
       "      <td>-0.209885</td>\n",
       "    </tr>\n",
       "    <tr>\n",
       "      <th>169</th>\n",
       "      <td>1.828800</td>\n",
       "      <td>-0.106601</td>\n",
       "      <td>-0.266133</td>\n",
       "      <td>-0.471619</td>\n",
       "    </tr>\n",
       "    <tr>\n",
       "      <th>3549</th>\n",
       "      <td>0.440563</td>\n",
       "      <td>0.234025</td>\n",
       "      <td>1.195788</td>\n",
       "      <td>0.837054</td>\n",
       "    </tr>\n",
       "    <tr>\n",
       "      <th>9140</th>\n",
       "      <td>-1.543977</td>\n",
       "      <td>-0.447227</td>\n",
       "      <td>-0.739839</td>\n",
       "      <td>-0.209885</td>\n",
       "    </tr>\n",
       "    <tr>\n",
       "      <th>2994</th>\n",
       "      <td>0.640407</td>\n",
       "      <td>1.255903</td>\n",
       "      <td>-0.486131</td>\n",
       "      <td>2.407463</td>\n",
       "    </tr>\n",
       "  </tbody>\n",
       "</table>\n",
       "</div>"
      ],
      "text/plain": [
       "      Lead Number  TotalVisits  Total Time Spent on Website  \\\n",
       "3177     0.574151     0.234025                     0.691922   \n",
       "169      1.828800    -0.106601                    -0.266133   \n",
       "3549     0.440563     0.234025                     1.195788   \n",
       "9140    -1.543977    -0.447227                    -0.739839   \n",
       "2994     0.640407     1.255903                    -0.486131   \n",
       "\n",
       "      Page Views Per Visit  \n",
       "3177             -0.209885  \n",
       "169              -0.471619  \n",
       "3549              0.837054  \n",
       "9140             -0.209885  \n",
       "2994              2.407463  "
      ]
     },
     "execution_count": 185,
     "metadata": {},
     "output_type": "execute_result"
    }
   ],
   "source": [
    "from sklearn.preprocessing import StandardScaler\n",
    "\n",
    "scaler = StandardScaler()\n",
    "\n",
    "num_cols=X_train.select_dtypes(include=['float64', 'int64']).columns\n",
    "\n",
    "X_train[num_cols] = scaler.fit_transform(X_train[num_cols])\n",
    "\n",
    "X_train.head()"
   ]
  },
  {
   "cell_type": "code",
   "execution_count": null,
   "id": "00029b22",
   "metadata": {},
   "outputs": [],
   "source": []
  },
  {
   "cell_type": "code",
   "execution_count": 206,
   "id": "3e1c03c5",
   "metadata": {},
   "outputs": [],
   "source": [
    "### Observation\n",
    "# Observation:\n",
    "# After running the model on the Test Data these are the figures we obtain:\n",
    "\n",
    "#Accuracy : 92.78%\n",
    "#Sensitivity : 91.98%\n",
    "#Specificity : 93.26%"
   ]
  },
  {
   "cell_type": "code",
   "execution_count": 207,
   "id": "2479c413",
   "metadata": {},
   "outputs": [],
   "source": [
    "# Final observation"
   ]
  },
  {
   "cell_type": "code",
   "execution_count": 208,
   "id": "ea548514",
   "metadata": {},
   "outputs": [],
   "source": [
    "#Train Data: ¶\n",
    "#Accuracy : 92.29%\n",
    "#Sensitivity : 91.70%\n",
    "#Specificity : 92.66%\n"
   ]
  },
  {
   "cell_type": "code",
   "execution_count": null,
   "id": "9685ec8d",
   "metadata": {},
   "outputs": [],
   "source": [
    "#Test Data: ¶\n",
    "#Accuracy : 92.78%\n",
    "#Sensitivity : 91.98%\n"
   ]
  }
 ],
 "metadata": {
  "kernelspec": {
   "display_name": "Python 3 (ipykernel)",
   "language": "python",
   "name": "python3"
  },
  "language_info": {
   "codemirror_mode": {
    "name": "ipython",
    "version": 3
   },
   "file_extension": ".py",
   "mimetype": "text/x-python",
   "name": "python",
   "nbconvert_exporter": "python",
   "pygments_lexer": "ipython3",
   "version": "3.9.12"
  }
 },
 "nbformat": 4,
 "nbformat_minor": 5
}
